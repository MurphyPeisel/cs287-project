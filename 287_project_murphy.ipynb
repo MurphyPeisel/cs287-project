{
 "cells": [
  {
   "cell_type": "code",
   "execution_count": 11,
   "id": "9e06a10a",
   "metadata": {},
   "outputs": [],
   "source": [
    "import numpy as np\n",
    "import pandas as pd\n",
    "import matplotlib.pyplot as plt\n",
    "import seaborn as sns\n",
    "import plotly.express as px\n"
   ]
  },
  {
   "cell_type": "code",
   "execution_count": 113,
   "id": "bfd03d1c",
   "metadata": {
    "scrolled": true
   },
   "outputs": [],
   "source": [
    "data = pd.read_excel(\"data/Master file Jan23.xls\")\n"
   ]
  },
  {
   "cell_type": "code",
   "execution_count": 114,
   "id": "c319c0d7",
   "metadata": {},
   "outputs": [],
   "source": [
    "cols_drop_data = data.drop(columns=['MHV_Nom_orig','MGR_Nom_orig','AGR_Nom_orig','Average_orig',\n",
    "          'MHV_Nom_dest','MGR_Nom_dest','AGR_Nom_dest','Average_dest',\n",
    "          'Dem_Share_President_Two_orig', 'Rep_Share_President_Two_orig',\n",
    "           'Dem_Share_President_Two_dest', 'Rep_Share_President_Two_dest',\n",
    "           'Health_White_orig','Health_Black_orig','Health_Hispanic_orig','Health_Asian_orig','Health_Alaska_orig','Other_orig',\n",
    "           'Health_White_dest','Health_Black_dest','Health_Hispanic_dest','Health_Asian_dest','Health_Alaska_dest','Other_dest'\n",
    "          ])"
   ]
  },
  {
   "cell_type": "code",
   "execution_count": 115,
   "id": "05f748a4",
   "metadata": {},
   "outputs": [
    {
     "name": "stdout",
     "output_type": "stream",
     "text": [
      "['Year', 'StateCODE_orig', 'StateCODE_dest', 'Mig_Estimate', 'outmigshare', 'outmigsharepercent', 'inmigshare', 'inmigsharepercent', 'Distance', 'StateABRV_orig', 'StateABRV_dest', 'StateNAME_orig', 'StateNAME_dest', 'Pop_orig', 'Children_018_orig', 'Adults_1925_orig', 'Adults_2634_orig', 'Adults_3554_orig', 'Adults_5564_orig', 'Adults_65_orig', 'Urban_rural_orig', 'Health_Adults_orig', 'Homicide_Rate_orig', 'Homic_death_orig', 'Kauf_rne_orig', 'Kauf_ose_orig', 'Kauf_sjc_orig', 'Kauf_ssr_orig', 'Kauf_zindex_orig', 'Unemp_tot_orig', 'Unemp_rate_orig', 'dems_share_state_leg_orig', 'reps_share_state_leg_orig', 'dems_control_state_leg_orig', 'reps_control_state_leg_orig', 'Dem_Share_Prez_orig', 'Rep_Share_Prez_orig', 'Median_House_Value_adj_orig', 'Median_Gross_Rent_adj_orig', 'Average_Gross_Rent_adj_orig', 'GoodDays_orig', 'Inc_Corp_Tax_orig', 'StateGDP_Millions_orig', 'PDSI_Value_orig', 'PDSI_Rank_orig', 'PDSI_Anomaly_orig', 'Reg_Pri_Par_orig', 'Econ_Free_Sum_orig', 'Homeown_Perc_orig', 'Median_HHI_orig', 'Median_HHI_adj_orig', 'Coll_Educ_orig', 'hdd_orig', 'cdd_orig', 'Pop_dest', 'Children_018_dest', 'Adults_1925_dest', 'Adults_2634_dest', 'Adults_3554_dest', 'Adults_5564_dest', 'Adults_65_dest', 'Urban_rural_dest', 'Health_Adults_dest', 'Homicide_Rate_dest', 'Homic_death_dest', 'Kauf_rne_dest', 'Kauf_ose_dest', 'Kauf_sjc_dest', 'Kauf_ssr_dest', 'Kauf_zindex_dest', 'Unemp_tot_dest', 'Unemp_rate_dest', 'dems_share_state_leg_dest', 'reps_share_state_leg_dest', 'dems_control_state_leg_dest', 'reps_control_state_leg_dest', 'Dem_Share_Prez_dest', 'Rep_Share_Prez_dest', 'Median_House_Value_adj_dest', 'Median_Gross_Rent_adj_dest', 'Average_Gross_Rent_adj_dest', 'GoodDays_dest', 'Inc_Corp_Tax_dest', 'StateGDP_Millions_dest', 'PDSI_Value_dest', 'PDSI_Rank_dest', 'PDSI_Anomaly_dest', 'Reg_Pri_Par_dest', 'Econ_Free_Sum_dest', 'Homeown_Perc_dest', 'Median_HHI_dest', 'Median_HHI_adj_dest', 'Coll_Educ_dest', 'hdd_dest', 'cdd_dest']\n"
     ]
    }
   ],
   "source": [
    "print(cols_drop_data.columns.tolist())\n"
   ]
  },
  {
   "cell_type": "code",
   "execution_count": 116,
   "id": "86bf0cf4",
   "metadata": {},
   "outputs": [],
   "source": [
    "def make_dict(data):\n",
    "    df = data\n",
    "    df = data[[\"StateCODE_orig\", \"StateABRV_orig\"]].drop_duplicates()\n",
    "    return zip(df.StateCODE_orig, df.StateABRV_orig)"
   ]
  },
  {
   "cell_type": "code",
   "execution_count": 117,
   "id": "a1dfac66",
   "metadata": {},
   "outputs": [],
   "source": [
    "def aggregate_data(data):\n",
    "    temp_df = data    \n",
    "    temp_df[\"Adults_orig\"] = temp_df.loc[:, [\"Adults_1925_orig\", \"Adults_2634_orig\", \"Adults_3554_orig\",\n",
    "                                            \"Adults_5564_orig\", \"Adults_65_orig\"]].sum(axis=1)\n",
    "    temp_df[\"Adults_dest\"] = temp_df.loc[:, [\"Adults_1925_dest\", \"Adults_2634_dest\", \"Adults_3554_dest\",\n",
    "                                            \"Adults_5564_dest\", \"Adults_65_dest\"]].sum(axis=1)\n",
    "    \n",
    "    return temp_df"
   ]
  },
  {
   "cell_type": "code",
   "execution_count": 118,
   "id": "167de273",
   "metadata": {},
   "outputs": [
    {
     "data": {
      "text/html": [
       "<div>\n",
       "<style scoped>\n",
       "    .dataframe tbody tr th:only-of-type {\n",
       "        vertical-align: middle;\n",
       "    }\n",
       "\n",
       "    .dataframe tbody tr th {\n",
       "        vertical-align: top;\n",
       "    }\n",
       "\n",
       "    .dataframe thead th {\n",
       "        text-align: right;\n",
       "    }\n",
       "</style>\n",
       "<table border=\"1\" class=\"dataframe\">\n",
       "  <thead>\n",
       "    <tr style=\"text-align: right;\">\n",
       "      <th></th>\n",
       "      <th>Year</th>\n",
       "      <th>StateCODE_orig</th>\n",
       "      <th>StateCODE_dest</th>\n",
       "      <th>Mig_Estimate</th>\n",
       "      <th>outmigshare</th>\n",
       "      <th>outmigsharepercent</th>\n",
       "      <th>inmigshare</th>\n",
       "      <th>inmigsharepercent</th>\n",
       "      <th>Distance</th>\n",
       "      <th>StateABRV_orig</th>\n",
       "      <th>...</th>\n",
       "      <th>Reg_Pri_Par_dest</th>\n",
       "      <th>Econ_Free_Sum_dest</th>\n",
       "      <th>Homeown_Perc_dest</th>\n",
       "      <th>Median_HHI_dest</th>\n",
       "      <th>Median_HHI_adj_dest</th>\n",
       "      <th>Coll_Educ_dest</th>\n",
       "      <th>hdd_dest</th>\n",
       "      <th>cdd_dest</th>\n",
       "      <th>Adults_orig</th>\n",
       "      <th>Adults_dest</th>\n",
       "    </tr>\n",
       "  </thead>\n",
       "  <tbody>\n",
       "    <tr>\n",
       "      <th>0</th>\n",
       "      <td>2000</td>\n",
       "      <td>1</td>\n",
       "      <td>2</td>\n",
       "      <td>608.0</td>\n",
       "      <td>0.000137</td>\n",
       "      <td>0.013656</td>\n",
       "      <td>0.000968</td>\n",
       "      <td>0.096821</td>\n",
       "      <td>3459</td>\n",
       "      <td>AL</td>\n",
       "      <td>...</td>\n",
       "      <td>NaN</td>\n",
       "      <td>3.65</td>\n",
       "      <td>66.4</td>\n",
       "      <td>52847</td>\n",
       "      <td>77275</td>\n",
       "      <td>NaN</td>\n",
       "      <td>10392</td>\n",
       "      <td>4</td>\n",
       "      <td>0.000</td>\n",
       "      <td>0.000</td>\n",
       "    </tr>\n",
       "    <tr>\n",
       "      <th>1</th>\n",
       "      <td>2000</td>\n",
       "      <td>1</td>\n",
       "      <td>3</td>\n",
       "      <td>574.0</td>\n",
       "      <td>0.000129</td>\n",
       "      <td>0.012893</td>\n",
       "      <td>0.000111</td>\n",
       "      <td>0.011123</td>\n",
       "      <td>1485</td>\n",
       "      <td>AL</td>\n",
       "      <td>...</td>\n",
       "      <td>NaN</td>\n",
       "      <td>6.67</td>\n",
       "      <td>68.0</td>\n",
       "      <td>39783</td>\n",
       "      <td>58172</td>\n",
       "      <td>NaN</td>\n",
       "      <td>1973</td>\n",
       "      <td>3155</td>\n",
       "      <td>0.000</td>\n",
       "      <td>0.000</td>\n",
       "    </tr>\n",
       "    <tr>\n",
       "      <th>2</th>\n",
       "      <td>2000</td>\n",
       "      <td>1</td>\n",
       "      <td>4</td>\n",
       "      <td>3168.0</td>\n",
       "      <td>0.000712</td>\n",
       "      <td>0.071156</td>\n",
       "      <td>0.001183</td>\n",
       "      <td>0.118271</td>\n",
       "      <td>347</td>\n",
       "      <td>AL</td>\n",
       "      <td>...</td>\n",
       "      <td>NaN</td>\n",
       "      <td>6.40</td>\n",
       "      <td>68.9</td>\n",
       "      <td>29697</td>\n",
       "      <td>43424</td>\n",
       "      <td>NaN</td>\n",
       "      <td>3532</td>\n",
       "      <td>1901</td>\n",
       "      <td>0.000</td>\n",
       "      <td>0.000</td>\n",
       "    </tr>\n",
       "    <tr>\n",
       "      <th>3</th>\n",
       "      <td>2000</td>\n",
       "      <td>1</td>\n",
       "      <td>5</td>\n",
       "      <td>3025.0</td>\n",
       "      <td>0.000679</td>\n",
       "      <td>0.067944</td>\n",
       "      <td>0.000089</td>\n",
       "      <td>0.008900</td>\n",
       "      <td>1883</td>\n",
       "      <td>AL</td>\n",
       "      <td>...</td>\n",
       "      <td>NaN</td>\n",
       "      <td>5.30</td>\n",
       "      <td>57.1</td>\n",
       "      <td>46816</td>\n",
       "      <td>68456</td>\n",
       "      <td>NaN</td>\n",
       "      <td>2830</td>\n",
       "      <td>831</td>\n",
       "      <td>0.000</td>\n",
       "      <td>0.000</td>\n",
       "    </tr>\n",
       "    <tr>\n",
       "      <th>4</th>\n",
       "      <td>2000</td>\n",
       "      <td>1</td>\n",
       "      <td>6</td>\n",
       "      <td>321.0</td>\n",
       "      <td>0.000072</td>\n",
       "      <td>0.007210</td>\n",
       "      <td>0.000074</td>\n",
       "      <td>0.007419</td>\n",
       "      <td>1143</td>\n",
       "      <td>AL</td>\n",
       "      <td>...</td>\n",
       "      <td>NaN</td>\n",
       "      <td>7.65</td>\n",
       "      <td>68.3</td>\n",
       "      <td>48240</td>\n",
       "      <td>70538</td>\n",
       "      <td>NaN</td>\n",
       "      <td>6874</td>\n",
       "      <td>419</td>\n",
       "      <td>0.000</td>\n",
       "      <td>0.000</td>\n",
       "    </tr>\n",
       "    <tr>\n",
       "      <th>...</th>\n",
       "      <td>...</td>\n",
       "      <td>...</td>\n",
       "      <td>...</td>\n",
       "      <td>...</td>\n",
       "      <td>...</td>\n",
       "      <td>...</td>\n",
       "      <td>...</td>\n",
       "      <td>...</td>\n",
       "      <td>...</td>\n",
       "      <td>...</td>\n",
       "      <td>...</td>\n",
       "      <td>...</td>\n",
       "      <td>...</td>\n",
       "      <td>...</td>\n",
       "      <td>...</td>\n",
       "      <td>...</td>\n",
       "      <td>...</td>\n",
       "      <td>...</td>\n",
       "      <td>...</td>\n",
       "      <td>...</td>\n",
       "      <td>...</td>\n",
       "    </tr>\n",
       "    <tr>\n",
       "      <th>41645</th>\n",
       "      <td>2016</td>\n",
       "      <td>50</td>\n",
       "      <td>45</td>\n",
       "      <td>0.0</td>\n",
       "      <td>0.000000</td>\n",
       "      <td>0.000000</td>\n",
       "      <td>0.000000</td>\n",
       "      <td>0.000000</td>\n",
       "      <td>1699</td>\n",
       "      <td>WY</td>\n",
       "      <td>...</td>\n",
       "      <td>99.491</td>\n",
       "      <td>5.15</td>\n",
       "      <td>71.3</td>\n",
       "      <td>60837</td>\n",
       "      <td>63660</td>\n",
       "      <td>36.4</td>\n",
       "      <td>7452</td>\n",
       "      <td>381</td>\n",
       "      <td>0.746</td>\n",
       "      <td>0.797</td>\n",
       "    </tr>\n",
       "    <tr>\n",
       "      <th>41646</th>\n",
       "      <td>2016</td>\n",
       "      <td>50</td>\n",
       "      <td>46</td>\n",
       "      <td>48.0</td>\n",
       "      <td>0.000082</td>\n",
       "      <td>0.008216</td>\n",
       "      <td>0.000006</td>\n",
       "      <td>0.000571</td>\n",
       "      <td>1528</td>\n",
       "      <td>WY</td>\n",
       "      <td>...</td>\n",
       "      <td>103.022</td>\n",
       "      <td>7.31</td>\n",
       "      <td>66.3</td>\n",
       "      <td>66451</td>\n",
       "      <td>69535</td>\n",
       "      <td>38.1</td>\n",
       "      <td>3958</td>\n",
       "      <td>1548</td>\n",
       "      <td>0.746</td>\n",
       "      <td>0.763</td>\n",
       "    </tr>\n",
       "    <tr>\n",
       "      <th>41647</th>\n",
       "      <td>2016</td>\n",
       "      <td>50</td>\n",
       "      <td>47</td>\n",
       "      <td>866.0</td>\n",
       "      <td>0.001482</td>\n",
       "      <td>0.148233</td>\n",
       "      <td>0.000119</td>\n",
       "      <td>0.011872</td>\n",
       "      <td>734</td>\n",
       "      <td>WY</td>\n",
       "      <td>...</td>\n",
       "      <td>104.816</td>\n",
       "      <td>6.18</td>\n",
       "      <td>61.6</td>\n",
       "      <td>70310</td>\n",
       "      <td>73573</td>\n",
       "      <td>35.1</td>\n",
       "      <td>4847</td>\n",
       "      <td>347</td>\n",
       "      <td>0.746</td>\n",
       "      <td>0.764</td>\n",
       "    </tr>\n",
       "    <tr>\n",
       "      <th>41648</th>\n",
       "      <td>2016</td>\n",
       "      <td>50</td>\n",
       "      <td>48</td>\n",
       "      <td>0.0</td>\n",
       "      <td>0.000000</td>\n",
       "      <td>0.000000</td>\n",
       "      <td>0.000000</td>\n",
       "      <td>0.000000</td>\n",
       "      <td>1388</td>\n",
       "      <td>WY</td>\n",
       "      <td>...</td>\n",
       "      <td>90.482</td>\n",
       "      <td>4.42</td>\n",
       "      <td>74.8</td>\n",
       "      <td>44354</td>\n",
       "      <td>46412</td>\n",
       "      <td>20.8</td>\n",
       "      <td>4716</td>\n",
       "      <td>1148</td>\n",
       "      <td>0.746</td>\n",
       "      <td>0.783</td>\n",
       "    </tr>\n",
       "    <tr>\n",
       "      <th>41649</th>\n",
       "      <td>2016</td>\n",
       "      <td>50</td>\n",
       "      <td>49</td>\n",
       "      <td>420.0</td>\n",
       "      <td>0.000719</td>\n",
       "      <td>0.071891</td>\n",
       "      <td>0.000073</td>\n",
       "      <td>0.007276</td>\n",
       "      <td>868</td>\n",
       "      <td>WY</td>\n",
       "      <td>...</td>\n",
       "      <td>93.577</td>\n",
       "      <td>6.26</td>\n",
       "      <td>67.7</td>\n",
       "      <td>59817</td>\n",
       "      <td>62593</td>\n",
       "      <td>29.5</td>\n",
       "      <td>6855</td>\n",
       "      <td>581</td>\n",
       "      <td>0.746</td>\n",
       "      <td>0.767</td>\n",
       "    </tr>\n",
       "  </tbody>\n",
       "</table>\n",
       "<p>41650 rows × 97 columns</p>\n",
       "</div>"
      ],
      "text/plain": [
       "       Year  StateCODE_orig  StateCODE_dest  Mig_Estimate  outmigshare  \\\n",
       "0      2000               1               2         608.0     0.000137   \n",
       "1      2000               1               3         574.0     0.000129   \n",
       "2      2000               1               4        3168.0     0.000712   \n",
       "3      2000               1               5        3025.0     0.000679   \n",
       "4      2000               1               6         321.0     0.000072   \n",
       "...     ...             ...             ...           ...          ...   \n",
       "41645  2016              50              45           0.0     0.000000   \n",
       "41646  2016              50              46          48.0     0.000082   \n",
       "41647  2016              50              47         866.0     0.001482   \n",
       "41648  2016              50              48           0.0     0.000000   \n",
       "41649  2016              50              49         420.0     0.000719   \n",
       "\n",
       "       outmigsharepercent  inmigshare  inmigsharepercent  Distance  \\\n",
       "0                0.013656    0.000968           0.096821      3459   \n",
       "1                0.012893    0.000111           0.011123      1485   \n",
       "2                0.071156    0.001183           0.118271       347   \n",
       "3                0.067944    0.000089           0.008900      1883   \n",
       "4                0.007210    0.000074           0.007419      1143   \n",
       "...                   ...         ...                ...       ...   \n",
       "41645            0.000000    0.000000           0.000000      1699   \n",
       "41646            0.008216    0.000006           0.000571      1528   \n",
       "41647            0.148233    0.000119           0.011872       734   \n",
       "41648            0.000000    0.000000           0.000000      1388   \n",
       "41649            0.071891    0.000073           0.007276       868   \n",
       "\n",
       "      StateABRV_orig  ... Reg_Pri_Par_dest Econ_Free_Sum_dest  \\\n",
       "0                 AL  ...              NaN               3.65   \n",
       "1                 AL  ...              NaN               6.67   \n",
       "2                 AL  ...              NaN               6.40   \n",
       "3                 AL  ...              NaN               5.30   \n",
       "4                 AL  ...              NaN               7.65   \n",
       "...              ...  ...              ...                ...   \n",
       "41645             WY  ...           99.491               5.15   \n",
       "41646             WY  ...          103.022               7.31   \n",
       "41647             WY  ...          104.816               6.18   \n",
       "41648             WY  ...           90.482               4.42   \n",
       "41649             WY  ...           93.577               6.26   \n",
       "\n",
       "      Homeown_Perc_dest  Median_HHI_dest  Median_HHI_adj_dest  Coll_Educ_dest  \\\n",
       "0                  66.4            52847                77275             NaN   \n",
       "1                  68.0            39783                58172             NaN   \n",
       "2                  68.9            29697                43424             NaN   \n",
       "3                  57.1            46816                68456             NaN   \n",
       "4                  68.3            48240                70538             NaN   \n",
       "...                 ...              ...                  ...             ...   \n",
       "41645              71.3            60837                63660            36.4   \n",
       "41646              66.3            66451                69535            38.1   \n",
       "41647              61.6            70310                73573            35.1   \n",
       "41648              74.8            44354                46412            20.8   \n",
       "41649              67.7            59817                62593            29.5   \n",
       "\n",
       "       hdd_dest  cdd_dest  Adults_orig  Adults_dest  \n",
       "0         10392         4        0.000        0.000  \n",
       "1          1973      3155        0.000        0.000  \n",
       "2          3532      1901        0.000        0.000  \n",
       "3          2830       831        0.000        0.000  \n",
       "4          6874       419        0.000        0.000  \n",
       "...         ...       ...          ...          ...  \n",
       "41645      7452       381        0.746        0.797  \n",
       "41646      3958      1548        0.746        0.763  \n",
       "41647      4847       347        0.746        0.764  \n",
       "41648      4716      1148        0.746        0.783  \n",
       "41649      6855       581        0.746        0.767  \n",
       "\n",
       "[41650 rows x 97 columns]"
      ]
     },
     "execution_count": 118,
     "metadata": {},
     "output_type": "execute_result"
    }
   ],
   "source": [
    "temp_df = aggregate_data(cols_drop_data)\n",
    "temp_df"
   ]
  },
  {
   "cell_type": "code",
   "execution_count": 203,
   "id": "2cefd388",
   "metadata": {},
   "outputs": [],
   "source": [
    "# https://towardsdatascience.com/simplest-way-of-creating-a-choropleth-map-by-u-s-states-in-python-f359ada7735e\n",
    "def make_choropleth(StateABRV):\n",
    "        temp_df = data[data[\"StateABRV_orig\"] == StateABRV]\n",
    "        temp_df = temp_df[[\"Year\", \"StateABRV_dest\", \"StateNAME_orig\", \"outmigshare\"]]\n",
    "        # log transform\n",
    "        temp_df[\"outmigshare\"] = temp_df[\"outmigshare\"].mask(temp_df[\"outmigshare\"] == 0, 1)\n",
    "        temp_df[\"Out-Migration Share\"] = np.abs(np.log(temp_df[\"outmigshare\"]))\n",
    "        temp_df = temp_df.sort_values(\"Year\")\n",
    "                \n",
    "        fig = px.choropleth(temp_df,\n",
    "                    locations='StateABRV_dest', \n",
    "                    locationmode=\"USA-states\", \n",
    "                    scope=\"usa\",\n",
    "                    color='Out-Migration Share',\n",
    "                    color_continuous_scale=\"gray_r\",\n",
    "                    animation_frame = \"Year\",\n",
    "                    range_color = (temp_df[\"Out-Migration Share\"].min(), temp_df[\"Out-Migration Share\"].max()),\n",
    "                    title = temp_df[\"StateNAME_orig\"].unique()[0] + \" Out-Migration Share per Year (log transform)\")\n",
    "        fig.show()\n"
   ]
  },
  {
   "cell_type": "code",
   "execution_count": 204,
   "id": "66e8b91e",
   "metadata": {},
   "outputs": [
    {
     "data": {
      "application/vnd.plotly.v1+json": {
       "config": {
        "plotlyServerURL": "https://plot.ly"
       },
       "data": [
        {
         "coloraxis": "coloraxis",
         "geo": "geo",
         "hovertemplate": "Year=2000<br>StateABRV_dest=%{location}<br>Out-Migration Share=%{z}<extra></extra>",
         "locationmode": "USA-states",
         "locations": [
          "AL",
          "NH",
          "NJ",
          "NM",
          "NY",
          "NC",
          "ND",
          "OH",
          "OK",
          "OR",
          "RI",
          "SC",
          "SD",
          "TN",
          "TX",
          "UT",
          "VT",
          "VA",
          "WA",
          "WV",
          "WI",
          "WY",
          "NV",
          "NE",
          "PA",
          "MO",
          "MT",
          "AZ",
          "AR",
          "CA",
          "CO",
          "CT",
          "DE",
          "FL",
          "GA",
          "HI",
          "ID",
          "AK",
          "MS",
          "IN",
          "IA",
          "KS",
          "KY",
          "LA",
          "ME",
          "MD",
          "MI",
          "MN",
          "IL"
         ],
         "name": "",
         "type": "choropleth",
         "z": [
          0,
          0,
          10.367395154508944,
          9.715069925078826,
          10.197652371622134,
          13.026655199706566,
          8.037194877823602,
          9.467233764113976,
          9.608928505931507,
          8.795659111301465,
          null,
          0,
          11.446204836299898,
          11.640360838586675,
          8.50099209637785,
          10.231990472533331,
          0,
          12.83249919741979,
          9.0000287907457,
          0,
          10.254066477466784,
          9.366763294620064,
          10.682105910443914,
          7.341618714637167,
          10.434603862745586,
          0,
          9.97198035225596,
          8.83808329369968,
          10.418688454986379,
          8.328775563958935,
          12.446836696188779,
          0,
          10.172651047718112,
          null,
          10.164454336487477,
          9.842666605718776,
          11.571367939550244,
          10.912122274091676,
          7.703993659542638,
          9.467233764113976,
          7.742726547253461,
          10.912122274091676,
          10.038091408198774,
          9.560919296906839,
          0,
          14.972565297106607,
          0,
          9.100447533095057,
          9.193366185959986
         ]
        }
       ],
       "frames": [
        {
         "data": [
          {
           "coloraxis": "coloraxis",
           "geo": "geo",
           "hovertemplate": "Year=2000<br>StateABRV_dest=%{location}<br>Out-Migration Share=%{z}<extra></extra>",
           "locationmode": "USA-states",
           "locations": [
            "AL",
            "NH",
            "NJ",
            "NM",
            "NY",
            "NC",
            "ND",
            "OH",
            "OK",
            "OR",
            "RI",
            "SC",
            "SD",
            "TN",
            "TX",
            "UT",
            "VT",
            "VA",
            "WA",
            "WV",
            "WI",
            "WY",
            "NV",
            "NE",
            "PA",
            "MO",
            "MT",
            "AZ",
            "AR",
            "CA",
            "CO",
            "CT",
            "DE",
            "FL",
            "GA",
            "HI",
            "ID",
            "AK",
            "MS",
            "IN",
            "IA",
            "KS",
            "KY",
            "LA",
            "ME",
            "MD",
            "MI",
            "MN",
            "IL"
           ],
           "name": "",
           "type": "choropleth",
           "z": [
            0,
            0,
            10.367395154508944,
            9.715069925078826,
            10.197652371622134,
            13.026655199706566,
            8.037194877823602,
            9.467233764113976,
            9.608928505931507,
            8.795659111301465,
            null,
            0,
            11.446204836299898,
            11.640360838586675,
            8.50099209637785,
            10.231990472533331,
            0,
            12.83249919741979,
            9.0000287907457,
            0,
            10.254066477466784,
            9.366763294620064,
            10.682105910443914,
            7.341618714637167,
            10.434603862745586,
            0,
            9.97198035225596,
            8.83808329369968,
            10.418688454986379,
            8.328775563958935,
            12.446836696188779,
            0,
            10.172651047718112,
            null,
            10.164454336487477,
            9.842666605718776,
            11.571367939550244,
            10.912122274091676,
            7.703993659542638,
            9.467233764113976,
            7.742726547253461,
            10.912122274091676,
            10.038091408198774,
            9.560919296906839,
            0,
            14.972565297106607,
            0,
            9.100447533095057,
            9.193366185959986
           ]
          }
         ],
         "name": "2000"
        },
        {
         "data": [
          {
           "coloraxis": "coloraxis",
           "geo": "geo",
           "hovertemplate": "Year=2001<br>StateABRV_dest=%{location}<br>Out-Migration Share=%{z}<extra></extra>",
           "locationmode": "USA-states",
           "locations": [
            "OK",
            "OH",
            "ND",
            "NC",
            "NV",
            "NM",
            "NJ",
            "NH",
            "OR",
            "NY",
            "PA",
            "UT",
            "SC",
            "SD",
            "TN",
            "TX",
            "VT",
            "VA",
            "WA",
            "WV",
            "WI",
            "WY",
            "RI",
            "NE",
            "ID",
            "MO",
            "MT",
            "AK",
            "AZ",
            "AR",
            "CA",
            "CO",
            "CT",
            "DE",
            "FL",
            "GA",
            "HI",
            "AL",
            "IL",
            "MN",
            "MI",
            "MD",
            "ME",
            "MS",
            "KY",
            "KS",
            "IA",
            "IN",
            "LA"
           ],
           "name": "",
           "type": "choropleth",
           "z": [
            8.826623358508817,
            6.711870171636036,
            0,
            6.483446255230547,
            8.474003436125534,
            9.631184072971797,
            8.425070715285122,
            9.994684956930143,
            8.775756050156037,
            7.728366074527919,
            7.494766056514653,
            9.046046418887082,
            10.559450993889701,
            7.7153124210319595,
            11.21709146479857,
            6.259137656038988,
            11.289412170356094,
            6.967268203101533,
            8.111358291519696,
            9.168648759768619,
            8.493656365515905,
            10.781089673527049,
            null,
            9.107583258186041,
            9.159693453122348,
            6.326305296376547,
            7.139751143864234,
            9.573364550649254,
            7.63648378161162,
            7.483305334807642,
            6.391479092381311,
            9.304968346801038,
            11.577094194319423,
            5.413288330428401,
            null,
            6.134099494994363,
            10.216117705835092,
            6.7570814785623154,
            7.089019783805373,
            7.357831619744081,
            8.284967953135755,
            8.04584371373867,
            9.079765089184136,
            9.40994709739006,
            6.28538193637397,
            8.426497263780622,
            8.620449356197186,
            6.964286603080469,
            6.805421409975915
           ]
          }
         ],
         "name": "2001"
        },
        {
         "data": [
          {
           "coloraxis": "coloraxis",
           "geo": "geo",
           "hovertemplate": "Year=2002<br>StateABRV_dest=%{location}<br>Out-Migration Share=%{z}<extra></extra>",
           "locationmode": "USA-states",
           "locations": [
            "PA",
            "NH",
            "NJ",
            "NM",
            "NY",
            "NC",
            "ND",
            "OH",
            "OK",
            "OR",
            "RI",
            "UT",
            "SD",
            "TN",
            "TX",
            "NV",
            "VT",
            "VA",
            "WA",
            "WV",
            "WI",
            "WY",
            "SC",
            "NE",
            "ID",
            "MO",
            "AK",
            "AZ",
            "AR",
            "CA",
            "CO",
            "CT",
            "DE",
            "FL",
            "GA",
            "HI",
            "AL",
            "MT",
            "IN",
            "IA",
            "KS",
            "KY",
            "LA",
            "ME",
            "MD",
            "MI",
            "MN",
            "MS",
            "IL"
           ],
           "name": "",
           "type": "choropleth",
           "z": [
            7.041296486198206,
            8.498238876357716,
            6.273615320974277,
            6.059421528729516,
            5.749440054196223,
            6.2550272325778415,
            9.362758560350736,
            6.108648746133034,
            5.457546311667944,
            7.507425176898898,
            null,
            7.531557322085753,
            6.853203588637696,
            7.882557430381483,
            6.789606136666379,
            7.022070221898945,
            10.887001597769034,
            5.95276756865493,
            6.381928052940006,
            8.410463227078852,
            7.350642227245995,
            7.77348631449828,
            9.96076057741832,
            7.497539539908293,
            8.046462256222313,
            6.225766198026004,
            7.175464142743643,
            5.841374627201937,
            6.077191360437159,
            4.365252007625556,
            7.707559858875676,
            10.26732159177359,
            5.081063808978045,
            null,
            5.955589916010919,
            6.664679235396746,
            6.599285646842155,
            6.324304138786829,
            6.236778365327799,
            7.476129028188242,
            6.364941385202813,
            7.069289327397032,
            3.9913864267041106,
            9.802375578476672,
            6.6979783665153985,
            6.997224264148026,
            6.469969921289382,
            6.335671858287765,
            5.583199359228812
           ]
          }
         ],
         "name": "2002"
        },
        {
         "data": [
          {
           "coloraxis": "coloraxis",
           "geo": "geo",
           "hovertemplate": "Year=2003<br>StateABRV_dest=%{location}<br>Out-Migration Share=%{z}<extra></extra>",
           "locationmode": "USA-states",
           "locations": [
            "OK",
            "OH",
            "ND",
            "NC",
            "NV",
            "NM",
            "NJ",
            "NH",
            "OR",
            "NY",
            "PA",
            "WY",
            "SC",
            "SD",
            "TN",
            "TX",
            "VT",
            "VA",
            "WA",
            "WV",
            "WI",
            "NE",
            "RI",
            "UT",
            "MT",
            "MS",
            "MO",
            "AL",
            "AK",
            "AZ",
            "AR",
            "CA",
            "CT",
            "DE",
            "FL",
            "GA",
            "HI",
            "CO",
            "IL",
            "ID",
            "MI",
            "MD",
            "ME",
            "LA",
            "MN",
            "KS",
            "IA",
            "IN",
            "KY"
           ],
           "name": "",
           "type": "choropleth",
           "z": [
            9.286766740245149,
            8.640940205149775,
            10.33779004437814,
            9.11997123722229,
            6.992959539770435,
            9.147370187406372,
            9.67887598683892,
            0,
            7.31595900223021,
            8.22524859972743,
            8.581093253264436,
            7.873118820232083,
            11.232676879483169,
            8.393254489317775,
            10.60642393245663,
            8.362774661572542,
            9.271753907546552,
            8.188714770137125,
            7.32750074074635,
            11.197991340237383,
            9.014752989917417,
            9.67391328726981,
            null,
            6.873557718265705,
            8.62174242843985,
            8.739957671507979,
            10.45497232389644,
            9.091918889957208,
            9.270099677374702,
            6.753336749138443,
            10.165939805188188,
            5.548937032503408,
            0,
            7.73403256831843,
            null,
            9.034145982202014,
            8.664114145338885,
            9.28341101463825,
            8.278992854399121,
            6.566245607409704,
            9.035452294511279,
            9.651880512894998,
            9.661613001269494,
            8.56381602609159,
            8.271657876345692,
            11.002499250773612,
            10.956829292903107,
            8.615710515475211,
            8.666822943825375
           ]
          }
         ],
         "name": "2003"
        },
        {
         "data": [
          {
           "coloraxis": "coloraxis",
           "geo": "geo",
           "hovertemplate": "Year=2004<br>StateABRV_dest=%{location}<br>Out-Migration Share=%{z}<extra></extra>",
           "locationmode": "USA-states",
           "locations": [
            "PA",
            "NH",
            "NJ",
            "NM",
            "NY",
            "NC",
            "ND",
            "OH",
            "OK",
            "OR",
            "RI",
            "NV",
            "SD",
            "TN",
            "TX",
            "UT",
            "VT",
            "VA",
            "WA",
            "WV",
            "WI",
            "WY",
            "SC",
            "NE",
            "ID",
            "MO",
            "AL",
            "AK",
            "AZ",
            "AR",
            "CA",
            "CO",
            "CT",
            "DE",
            "FL",
            "GA",
            "HI",
            "MT",
            "IL",
            "MN",
            "MI",
            "MD",
            "ME",
            "MS",
            "KY",
            "KS",
            "IA",
            "IN",
            "LA"
           ],
           "name": "",
           "type": "choropleth",
           "z": [
            9.372939857711538,
            7.959048180483859,
            9.087553943204325,
            11.454217886613268,
            7.158935342142361,
            10.453369811679075,
            0,
            10.024751352420228,
            10.85344402895091,
            10.172467360591334,
            null,
            0,
            11.454217886613268,
            0,
            10.630300534074786,
            9.229594346678631,
            11.613282619688777,
            8.342665338186258,
            10.144296568260438,
            0,
            10.160296848390965,
            11.74189993047713,
            9.89298211940833,
            0,
            12.783353886304395,
            10.257625238756175,
            12.840512247733157,
            0,
            9.553428174157865,
            11.48407090953769,
            9.356560911544035,
            8.230061976772918,
            0,
            7.940918082188178,
            null,
            9.573406707072708,
            11.761702596652878,
            11.196388792904578,
            12.118377557254284,
            10.262079546060317,
            7.754005863754935,
            8.437386249837715,
            8.310446036641046,
            11.499338323213179,
            11.666392448659112,
            0,
            0,
            0,
            0
           ]
          }
         ],
         "name": "2004"
        },
        {
         "data": [
          {
           "coloraxis": "coloraxis",
           "geo": "geo",
           "hovertemplate": "Year=2005<br>StateABRV_dest=%{location}<br>Out-Migration Share=%{z}<extra></extra>",
           "locationmode": "USA-states",
           "locations": [
            "PA",
            "NH",
            "NJ",
            "NM",
            "NC",
            "ND",
            "OH",
            "OK",
            "OR",
            "RI",
            "VT",
            "SD",
            "TN",
            "TX",
            "UT",
            "NV",
            "VA",
            "WA",
            "WV",
            "WI",
            "WY",
            "SC",
            "NE",
            "NY",
            "AL",
            "MO",
            "AK",
            "AZ",
            "AR",
            "CA",
            "CO",
            "CT",
            "DE",
            "FL",
            "GA",
            "HI",
            "ID",
            "MT",
            "IN",
            "IL",
            "MN",
            "MI",
            "MD",
            "ME",
            "MS",
            "LA",
            "KY",
            "KS",
            "IA"
           ],
           "name": "",
           "type": "choropleth",
           "z": [
            6.130307058021386,
            8.57147059777627,
            6.672703150885882,
            8.856682493903843,
            5.460835693863773,
            10.073900561307338,
            6.895692334188977,
            7.994459019627502,
            8.377945168031006,
            null,
            8.695974440432646,
            6.475067370307913,
            10.409632272839142,
            6.702526179711785,
            5.8393110683676825,
            9.465746567140783,
            9.084772450576796,
            7.214454738871681,
            7.13160807632391,
            9.225016581604768,
            12.034736324251789,
            8.25414163843765,
            8.374554216803604,
            5.710660350213026,
            7.546987357169476,
            8.009384633516639,
            7.3496853375769495,
            7.574896177545556,
            8.705355371364403,
            5.830869907653101,
            7.218282122977775,
            8.77159182055035,
            5.849719638314794,
            null,
            6.748065496385483,
            7.517534926711492,
            8.97405442608331,
            7.69538374406481,
            7.489483742209656,
            6.200926415591002,
            7.001207217857917,
            7.1969934735202985,
            5.655372331429334,
            8.112242044499148,
            8.355774274616364,
            6.94179370095947,
            7.473683059028687,
            8.341917297040514,
            9.748066709511185
           ]
          }
         ],
         "name": "2005"
        },
        {
         "data": [
          {
           "coloraxis": "coloraxis",
           "geo": "geo",
           "hovertemplate": "Year=2006<br>StateABRV_dest=%{location}<br>Out-Migration Share=%{z}<extra></extra>",
           "locationmode": "USA-states",
           "locations": [
            "OR",
            "NH",
            "NJ",
            "NM",
            "NY",
            "NC",
            "ND",
            "OH",
            "OK",
            "NV",
            "PA",
            "TX",
            "SC",
            "SD",
            "TN",
            "UT",
            "VT",
            "VA",
            "WA",
            "WV",
            "WI",
            "WY",
            "RI",
            "NE",
            "MT",
            "MS",
            "AL",
            "AK",
            "AZ",
            "AR",
            "CA",
            "CO",
            "CT",
            "DE",
            "FL",
            "GA",
            "HI",
            "MO",
            "IL",
            "IN",
            "IA",
            "KS",
            "KY",
            "LA",
            "ME",
            "MD",
            "MI",
            "MN",
            "ID"
           ],
           "name": "",
           "type": "choropleth",
           "z": [
            5.401613039794563,
            10.07867153119988,
            8.298753924117271,
            8.885537971202124,
            6.967058121850709,
            7.525515811781338,
            8.489512232704419,
            7.410823997105629,
            8.006692691889986,
            7.09115131995699,
            8.313278959650637,
            8.877677145519069,
            9.609597721468273,
            8.363501474439817,
            8.749754317817322,
            6.0324296952226195,
            7.170491529545962,
            10.071264108475708,
            6.960294056675493,
            0,
            8.522681443214285,
            9.429215988423271,
            null,
            9.317275254018941,
            7.677065711871481,
            7.217214476363145,
            9.368934149743954,
            7.339872216298448,
            6.475216394102259,
            8.82325678836881,
            4.79469448900896,
            8.33449477566727,
            10.954884054987074,
            6.758488021628252,
            null,
            7.604353555265067,
            7.217427073556758,
            9.099702782585439,
            6.70830393588587,
            7.978534826224405,
            9.108117958592858,
            7.901472672303185,
            9.3034819662717,
            7.741379810703668,
            9.550890160601899,
            8.097798237993636,
            8.005289251853101,
            7.385602945498002,
            6.340559488733444
           ]
          }
         ],
         "name": "2006"
        },
        {
         "data": [
          {
           "coloraxis": "coloraxis",
           "geo": "geo",
           "hovertemplate": "Year=2007<br>StateABRV_dest=%{location}<br>Out-Migration Share=%{z}<extra></extra>",
           "locationmode": "USA-states",
           "locations": [
            "OK",
            "OH",
            "ND",
            "NC",
            "NV",
            "NM",
            "NJ",
            "NH",
            "OR",
            "NY",
            "PA",
            "TX",
            "SC",
            "SD",
            "TN",
            "UT",
            "VT",
            "VA",
            "WA",
            "WV",
            "WI",
            "NE",
            "RI",
            "WY",
            "MT",
            "MS",
            "MO",
            "AL",
            "AK",
            "AZ",
            "AR",
            "CA",
            "CT",
            "DE",
            "FL",
            "GA",
            "HI",
            "CO",
            "IL",
            "ID",
            "MI",
            "MD",
            "ME",
            "LA",
            "MN",
            "KS",
            "IA",
            "IN",
            "KY"
           ],
           "name": "",
           "type": "choropleth",
           "z": [
            9.415235831739121,
            6.473613194213062,
            0,
            7.610519947100567,
            10.243005565542877,
            0,
            8.751132325616856,
            10.646289567234207,
            9.066031480236832,
            8.428223421585646,
            7.499492665529175,
            8.775996833128765,
            0,
            9.002166110714697,
            0,
            8.60007373259701,
            11.633676206706685,
            12.309431715328733,
            6.845307749618945,
            9.091936147357506,
            11.915527382713314,
            0,
            null,
            0,
            0,
            10.801530192859012,
            9.166469199989537,
            8.775996833128765,
            8.971088439345335,
            12.904138835682039,
            12.275530103141305,
            8.747210744946983,
            9.862597014092247,
            7.53117788966388,
            null,
            8.542633837312035,
            11.784907222505907,
            9.899075217721217,
            9.198217848884642,
            12.275530103141305,
            10.666092229703663,
            7.131530171375771,
            0,
            9.615270610871358,
            9.198217848884642,
            11.915527382713314,
            0,
            11.091760041945962,
            8.189553857768495
           ]
          }
         ],
         "name": "2007"
        },
        {
         "data": [
          {
           "coloraxis": "coloraxis",
           "geo": "geo",
           "hovertemplate": "Year=2008<br>StateABRV_dest=%{location}<br>Out-Migration Share=%{z}<extra></extra>",
           "locationmode": "USA-states",
           "locations": [
            "PA",
            "NH",
            "NJ",
            "NM",
            "NY",
            "NC",
            "ND",
            "OH",
            "OK",
            "OR",
            "RI",
            "NV",
            "SD",
            "TN",
            "TX",
            "UT",
            "VT",
            "VA",
            "WA",
            "WV",
            "WI",
            "WY",
            "SC",
            "NE",
            "MT",
            "MO",
            "AK",
            "AZ",
            "AR",
            "CA",
            "CO",
            "CT",
            "DE",
            "FL",
            "GA",
            "HI",
            "ID",
            "AL",
            "IN",
            "IA",
            "KS",
            "KY",
            "LA",
            "ME",
            "MD",
            "MI",
            "MN",
            "MS",
            "IL"
           ],
           "name": "",
           "type": "choropleth",
           "z": [
            8.751055193749226,
            10.878505922967545,
            8.764821368943,
            10.529235402193978,
            7.8963905231056755,
            8.018180384031195,
            9.08129688461674,
            8.09016090017402,
            9.85652685861326,
            8.889060903458043,
            null,
            9.241580473524188,
            9.08674645373949,
            9.79088281342571,
            8.682192533626393,
            7.457291628617508,
            9.06245376168485,
            11.555392593545303,
            8.429056639760395,
            8.4425944353301,
            0,
            13.284631701478613,
            9.642272315212372,
            10.03003778134053,
            8.081624571430362,
            10.016100282925763,
            9.676173816651346,
            7.928474329906366,
            7.948405688094719,
            7.301153531643613,
            9.302404487690588,
            0,
            6.9111568451945775,
            null,
            8.215727505145237,
            12.50447313835755,
            11.523643915989007,
            8.191997560793322,
            8.075642468311813,
            7.753400526309664,
            9.448116294179266,
            9.200949891893199,
            8.51163849052274,
            9.965499322134445,
            9.96221522967366,
            8.853814883533056,
            7.121125537049399,
            5.833548466004428,
            5.737321868326712
           ]
          }
         ],
         "name": "2008"
        },
        {
         "data": [
          {
           "coloraxis": "coloraxis",
           "geo": "geo",
           "hovertemplate": "Year=2009<br>StateABRV_dest=%{location}<br>Out-Migration Share=%{z}<extra></extra>",
           "locationmode": "USA-states",
           "locations": [
            "OR",
            "OK",
            "OH",
            "ND",
            "NH",
            "NY",
            "NM",
            "NJ",
            "PA",
            "NC",
            "RI",
            "UT",
            "SD",
            "TN",
            "TX",
            "VT",
            "VA",
            "WA",
            "WV",
            "WI",
            "WY",
            "NV",
            "SC",
            "NE",
            "MT",
            "MO",
            "AK",
            "AZ",
            "AR",
            "CA",
            "CO",
            "CT",
            "DE",
            "FL",
            "GA",
            "HI",
            "ID",
            "AL",
            "IN",
            "IA",
            "KS",
            "KY",
            "LA",
            "ME",
            "MD",
            "MI",
            "MN",
            "MS",
            "IL"
           ],
           "name": "",
           "type": "choropleth",
           "z": [
            9.181249615696126,
            10.058807010489428,
            9.420922471906273,
            11.738775012850372,
            0,
            0,
            9.102468757117586,
            11.179159241199935,
            10.099031820679013,
            0,
            null,
            7.679659150232785,
            8.675204443555034,
            9.219219259059555,
            10.180630448801404,
            8.43160661969109,
            0,
            10.845831642280416,
            8.896552646392262,
            0,
            8.849472274929157,
            8.992984546532874,
            0,
            9.321831592986538,
            9.8378162634499,
            10.530963444009846,
            10.548355202261249,
            8.870002390154001,
            9.70356676567323,
            8.599941891095913,
            12.193511194146055,
            0,
            9.153327153335274,
            null,
            12.98196854552891,
            0,
            10.296391245185838,
            10.748376338135468,
            9.834946863777073,
            11.441523518695414,
            10.894228226345641,
            0,
            9.621593147409722,
            11.777995721443858,
            9.752482569962195,
            0,
            8.777275980696693,
            9.972991066023965,
            9.706082452754595
           ]
          }
         ],
         "name": "2009"
        },
        {
         "data": [
          {
           "coloraxis": "coloraxis",
           "geo": "geo",
           "hovertemplate": "Year=2010<br>StateABRV_dest=%{location}<br>Out-Migration Share=%{z}<extra></extra>",
           "locationmode": "USA-states",
           "locations": [
            "OR",
            "OK",
            "OH",
            "ND",
            "NH",
            "NY",
            "NM",
            "NJ",
            "PA",
            "NC",
            "RI",
            "UT",
            "SD",
            "TN",
            "TX",
            "VT",
            "VA",
            "WA",
            "WV",
            "WI",
            "WY",
            "NV",
            "SC",
            "NE",
            "MT",
            "MO",
            "AK",
            "AZ",
            "AR",
            "CA",
            "CO",
            "CT",
            "DE",
            "FL",
            "GA",
            "HI",
            "ID",
            "AL",
            "IN",
            "IA",
            "KS",
            "KY",
            "LA",
            "ME",
            "MD",
            "MI",
            "MN",
            "MS",
            "IL"
           ],
           "name": "",
           "type": "choropleth",
           "z": [
            8.101069783550304,
            10.680182257076693,
            8.938206810381118,
            7.73923492043812,
            7.7174385369890155,
            7.207023656813041,
            7.19863658081293,
            9.109912100421539,
            null,
            0,
            10.762988162468112,
            10.482526381421001,
            0,
            6.506100701605143,
            6.59237115764481,
            11.5230748501597,
            7.3103776510300245,
            8.766967357785987,
            9.808584173684315,
            9.317339628315578,
            10.013882327091029,
            10.21682325030841,
            8.175602834841536,
            9.267742692400502,
            9.295544902149151,
            11.254810852755933,
            8.784719357613959,
            8.332281985893303,
            7.254346156196976,
            9.455238889992577,
            0,
            5.869992053110401,
            null,
            5.522269468733414,
            8.801779388457957,
            12.08654424217548,
            7.937421483644332,
            8.564166145434625,
            10.204400692216712,
            9.836675927215223,
            7.892395062725034,
            7.320450983381582,
            11.538579084069875,
            8.003524831589969,
            9.439794520556035,
            7.1788699005506365,
            9.144954268015365,
            6.4519476761405805,
            7.5043384318792645
           ]
          }
         ],
         "name": "2010"
        },
        {
         "data": [
          {
           "coloraxis": "coloraxis",
           "geo": "geo",
           "hovertemplate": "Year=2011<br>StateABRV_dest=%{location}<br>Out-Migration Share=%{z}<extra></extra>",
           "locationmode": "USA-states",
           "locations": [
            "OR",
            "OK",
            "OH",
            "ND",
            "NH",
            "NY",
            "NM",
            "NJ",
            "PA",
            "NC",
            "RI",
            "UT",
            "SD",
            "TN",
            "TX",
            "VT",
            "VA",
            "WA",
            "WV",
            "WI",
            "WY",
            "NV",
            "SC",
            "NE",
            "MT",
            "MO",
            "AK",
            "AZ",
            "AR",
            "CA",
            "CO",
            "CT",
            "DE",
            "FL",
            "GA",
            "HI",
            "ID",
            "AL",
            "IN",
            "IA",
            "KS",
            "KY",
            "LA",
            "ME",
            "MD",
            "MI",
            "MN",
            "MS",
            "IL"
           ],
           "name": "",
           "type": "choropleth",
           "z": [
            9.394717879711333,
            8.242995746622006,
            9.939445031017508,
            9.990903321821005,
            10.9772482513472,
            9.748798777819948,
            9.3607557218126,
            9.977788342238625,
            null,
            10.4523626866037,
            0,
            9.785742240398232,
            11.485128374277007,
            8.402139694827701,
            7.555612238807414,
            0,
            8.769265681624237,
            7.582561716697475,
            0,
            9.331316312820361,
            0,
            0,
            8.947703685268474,
            10.357528639719122,
            10.484280317489453,
            8.905580250133942,
            7.955313646514966,
            9.748798777819948,
            7.414343499860173,
            10.604769681833456,
            0,
            8.841878179725652,
            null,
            8.302794536329213,
            8.684445405606679,
            10.580672133747438,
            9.378486670226973,
            8.656249709157017,
            0,
            9.3856680071456,
            10.11738749658846,
            9.920810935227568,
            9.881590236311016,
            8.860886159869406,
            9.821313758970126,
            8.73766896184851,
            10.557141639667819,
            11.109516254336427,
            10.426521474379427
           ]
          }
         ],
         "name": "2011"
        },
        {
         "data": [
          {
           "coloraxis": "coloraxis",
           "geo": "geo",
           "hovertemplate": "Year=2012<br>StateABRV_dest=%{location}<br>Out-Migration Share=%{z}<extra></extra>",
           "locationmode": "USA-states",
           "locations": [
            "OK",
            "OH",
            "ND",
            "NC",
            "NV",
            "NM",
            "NJ",
            "NH",
            "OR",
            "NY",
            "RI",
            "UT",
            "SD",
            "TN",
            "TX",
            "VT",
            "VA",
            "WA",
            "WV",
            "WI",
            "WY",
            "NE",
            "SC",
            "MT",
            "PA",
            "MS",
            "AK",
            "AZ",
            "AR",
            "CA",
            "CO",
            "CT",
            "DE",
            "FL",
            "GA",
            "HI",
            "ID",
            "AL",
            "IL",
            "IN",
            "IA",
            "KS",
            "KY",
            "LA",
            "ME",
            "MD",
            "MI",
            "MN",
            "MO"
           ],
           "name": "",
           "type": "choropleth",
           "z": [
            6.837073645833402,
            7.764049119828207,
            6.936068394720869,
            8.819439545468276,
            9.44109273301077,
            7.0390815067870465,
            6.469079960626929,
            7.365913557891362,
            7.518957416999179,
            7.4685356467715165,
            10.58811715655427,
            6.768052839847692,
            9.08934479972812,
            7.854600371899653,
            6.173156713048319,
            10.287131157884351,
            7.478312479305209,
            6.5857747651782,
            9.080079359702491,
            7.405855895194879,
            8.606294983513765,
            6.463097141333089,
            8.405549711066103,
            8.47646198075335,
            null,
            9.634438921730228,
            8.114183238981816,
            8.44525376103086,
            4.61947054423953,
            8.778658162540657,
            9.79587907879481,
            7.0650884875927344,
            null,
            7.378810760504537,
            7.717111645755385,
            8.157222607362668,
            6.366598157207562,
            8.286723238955972,
            7.075683691581371,
            7.8604199888340816,
            7.593278174823085,
            9.08668877790026,
            8.640507744799743,
            8.752682659175422,
            7.994284925970887,
            7.131349921137576,
            6.318419696764453,
            6.731279741588527,
            6.955241312135805
           ]
          }
         ],
         "name": "2012"
        },
        {
         "data": [
          {
           "coloraxis": "coloraxis",
           "geo": "geo",
           "hovertemplate": "Year=2013<br>StateABRV_dest=%{location}<br>Out-Migration Share=%{z}<extra></extra>",
           "locationmode": "USA-states",
           "locations": [
            "OR",
            "OK",
            "OH",
            "ND",
            "NH",
            "NY",
            "NM",
            "NJ",
            "PA",
            "NC",
            "RI",
            "UT",
            "SD",
            "TN",
            "TX",
            "VT",
            "VA",
            "WA",
            "WV",
            "WI",
            "WY",
            "NV",
            "SC",
            "NE",
            "MT",
            "MO",
            "AK",
            "AZ",
            "AR",
            "CA",
            "CO",
            "CT",
            "DE",
            "FL",
            "GA",
            "HI",
            "ID",
            "AL",
            "IN",
            "IA",
            "KS",
            "KY",
            "LA",
            "ME",
            "MD",
            "MI",
            "MN",
            "MS",
            "IL"
           ],
           "name": "",
           "type": "choropleth",
           "z": [
            9.893603305458612,
            10.198142467888292,
            7.021589785451953,
            8.833071821453132,
            9.91446842330759,
            8.756413480473555,
            8.624539087523933,
            8.640419020110913,
            null,
            11.642065985723246,
            0,
            8.516942227634717,
            10.992215630148696,
            7.181040244486957,
            5.896296113130445,
            0,
            9.71325026849787,
            8.165792573064708,
            10.316926097169329,
            8.342469691489596,
            9.50900338876237,
            8.534216423456444,
            8.790086663928273,
            8.055256789226148,
            9.400635321289952,
            6.871956080134023,
            9.703446311830168,
            8.88441882901576,
            6.846275466639666,
            9.489122008940768,
            0,
            7.739237661012691,
            null,
            8.789108696959035,
            10.715657147992498,
            10.510117255863973,
            7.964693137513431,
            8.086717939017669,
            10.202150569322315,
            8.077079305868834,
            8.964999282619068,
            7.095710622176654,
            0,
            8.968501925954513,
            9.774182795557039,
            8.240303759882659,
            8.522168064997784,
            7.730721152589374,
            8.64972926526679
           ]
          }
         ],
         "name": "2013"
        },
        {
         "data": [
          {
           "coloraxis": "coloraxis",
           "geo": "geo",
           "hovertemplate": "Year=2014<br>StateABRV_dest=%{location}<br>Out-Migration Share=%{z}<extra></extra>",
           "locationmode": "USA-states",
           "locations": [
            "OK",
            "OH",
            "ND",
            "NC",
            "NV",
            "NM",
            "NJ",
            "NH",
            "OR",
            "NY",
            "WY",
            "TX",
            "SC",
            "SD",
            "TN",
            "UT",
            "VT",
            "VA",
            "WA",
            "WV",
            "WI",
            "NE",
            "RI",
            "MT",
            "PA",
            "MS",
            "AL",
            "AK",
            "AZ",
            "AR",
            "CA",
            "CO",
            "DE",
            "FL",
            "GA",
            "HI",
            "CT",
            "IL",
            "ID",
            "MI",
            "MD",
            "ME",
            "LA",
            "MN",
            "KS",
            "IA",
            "IN",
            "KY",
            "MO"
           ],
           "name": "",
           "type": "choropleth",
           "z": [
            5.983246539436418,
            7.3278323030193375,
            6.502575498032241,
            10.237979703366367,
            8.645208801385833,
            5.590137932025667,
            7.107889887564826,
            6.524709985205847,
            6.360000736474648,
            6.306559225574821,
            8.491298229861545,
            5.224840593606979,
            7.632844246997299,
            9.216659041799733,
            6.722371987012182,
            6.303322223196153,
            10.205456453916844,
            6.113381138805804,
            5.622572792597948,
            10.147187551363174,
            7.1051840409948985,
            5.427005491304122,
            8.341686449445088,
            7.825910345300043,
            null,
            7.328057363824363,
            7.892129281019518,
            7.112960531726635,
            5.303773311413366,
            7.408663107769591,
            6.8833023354026865,
            9.946173893649359,
            null,
            6.216546497285108,
            6.087916345322149,
            7.199377916592451,
            5.467435185716584,
            6.851770131319091,
            5.632024694584243,
            6.108049978132609,
            6.332756588322565,
            6.67651103681852,
            8.501435911459035,
            6.547861351698426,
            7.465649235717429,
            7.792045837297928,
            7.733297388978341,
            6.998491301999738,
            7.869823559584677
           ]
          }
         ],
         "name": "2014"
        },
        {
         "data": [
          {
           "coloraxis": "coloraxis",
           "geo": "geo",
           "hovertemplate": "Year=2015<br>StateABRV_dest=%{location}<br>Out-Migration Share=%{z}<extra></extra>",
           "locationmode": "USA-states",
           "locations": [
            "OR",
            "NV",
            "NH",
            "NJ",
            "NM",
            "NY",
            "NC",
            "ND",
            "OH",
            "OK",
            "WY",
            "SC",
            "SD",
            "TN",
            "TX",
            "UT",
            "VT",
            "VA",
            "WA",
            "WV",
            "WI",
            "NE",
            "RI",
            "MT",
            "PA",
            "MS",
            "MO",
            "AL",
            "AK",
            "AZ",
            "AR",
            "CA",
            "CO",
            "DE",
            "FL",
            "GA",
            "HI",
            "CT",
            "IL",
            "IN",
            "IA",
            "MN",
            "KS",
            "KY",
            "LA",
            "ME",
            "MD",
            "MI",
            "ID"
           ],
           "name": "",
           "type": "choropleth",
           "z": [
            7.971116984964521,
            8.108430871923872,
            7.237864158030836,
            0,
            5.676577808034121,
            7.992224762758514,
            11.557196750928036,
            9.248476640875634,
            11.468904098257614,
            11.637239434834978,
            0,
            9.815381913629851,
            13.166634639595543,
            9.331326577409863,
            7.986148418200676,
            9.398304355197775,
            9.20949121706138,
            8.727609867349969,
            9.096950608745422,
            11.902942600567984,
            10.398865196328769,
            9.276385424001054,
            8.16786436632146,
            9.730169134391263,
            null,
            0,
            0,
            10.408573995311423,
            10.234415797088937,
            9.179076085781242,
            10.342512288402615,
            7.347693684021285,
            10.734371681540841,
            null,
            9.251539387743046,
            10.271998502634137,
            10.151854176900398,
            6.774846374324174,
            8.871969120960156,
            9.501102537314592,
            0,
            9.985380811452481,
            9.727696918507364,
            10.267752165847934,
            8.828841227294063,
            8.063490267030293,
            6.659931172006861,
            9.149558862443557,
            8.183554975817795
           ]
          }
         ],
         "name": "2015"
        },
        {
         "data": [
          {
           "coloraxis": "coloraxis",
           "geo": "geo",
           "hovertemplate": "Year=2016<br>StateABRV_dest=%{location}<br>Out-Migration Share=%{z}<extra></extra>",
           "locationmode": "USA-states",
           "locations": [
            "OH",
            "ND",
            "NC",
            "NV",
            "NM",
            "NJ",
            "NH",
            "OK",
            "NY",
            "OR",
            "WV",
            "RI",
            "SC",
            "SD",
            "TN",
            "TX",
            "UT",
            "VT",
            "VA",
            "WA",
            "NE",
            "PA",
            "MT",
            "IL",
            "MS",
            "WI",
            "AL",
            "AK",
            "AZ",
            "AR",
            "CA",
            "CO",
            "CT",
            "DE",
            "FL",
            "MO",
            "GA",
            "ID",
            "IN",
            "IA",
            "KS",
            "KY",
            "LA",
            "ME",
            "MD",
            "MI",
            "MN",
            "HI",
            "WY"
           ],
           "name": "",
           "type": "choropleth",
           "z": [
            10.388791405625204,
            10.101109303620873,
            0,
            11.305082152275633,
            7.480590091871095,
            10.61790508428657,
            6.962359552912578,
            0,
            8.790847839135337,
            6.47429526461165,
            11.130728729667796,
            10.16755443889815,
            9.562112832440736,
            0,
            11.140779098745528,
            8.307565773126731,
            0,
            12.96331020117365,
            8.71213999855155,
            12.691376513395523,
            9.065132624935634,
            null,
            0,
            9.51729881994764,
            9.729545768588512,
            0,
            10.515543088900255,
            11.641554374120572,
            9.9551554052268,
            0,
            10.369922859453803,
            9.446183394602425,
            8.555067733519708,
            null,
            10.018871191385326,
            0,
            0,
            11.063070040013748,
            11.641554374120572,
            10.26783878473322,
            12.152379963408588,
            10.072938421728752,
            0,
            7.099856565680727,
            8.585982122293787,
            8.930176385674761,
            10.9737249803277,
            0,
            11.823875910227741
           ]
          }
         ],
         "name": "2016"
        }
       ],
       "layout": {
        "coloraxis": {
         "cmax": 14.972565297106607,
         "cmin": 0,
         "colorbar": {
          "title": {
           "text": "Out-Migration Share"
          }
         },
         "colorscale": [
          [
           0,
           "rgb(254, 254, 253)"
          ],
          [
           0.09090909090909091,
           "rgb(224, 224, 223)"
          ],
          [
           0.18181818181818182,
           "rgb(197, 197, 195)"
          ],
          [
           0.2727272727272727,
           "rgb(171, 171, 170)"
          ],
          [
           0.36363636363636365,
           "rgb(146, 146, 145)"
          ],
          [
           0.45454545454545453,
           "rgb(124, 123, 122)"
          ],
          [
           0.5454545454545454,
           "rgb(102, 101, 101)"
          ],
          [
           0.6363636363636364,
           "rgb(81, 80, 80)"
          ],
          [
           0.7272727272727273,
           "rgb(59, 59, 59)"
          ],
          [
           0.8181818181818182,
           "rgb(38, 38, 38)"
          ],
          [
           0.9090909090909091,
           "rgb(16, 16, 16)"
          ],
          [
           1,
           "rgb(0, 0, 0)"
          ]
         ]
        },
        "geo": {
         "center": {},
         "domain": {
          "x": [
           0,
           1
          ],
          "y": [
           0,
           1
          ]
         },
         "scope": "usa"
        },
        "legend": {
         "tracegroupgap": 0
        },
        "sliders": [
         {
          "active": 0,
          "currentvalue": {
           "prefix": "Year="
          },
          "len": 0.9,
          "pad": {
           "b": 10,
           "t": 60
          },
          "steps": [
           {
            "args": [
             [
              "2000"
             ],
             {
              "frame": {
               "duration": 0,
               "redraw": true
              },
              "fromcurrent": true,
              "mode": "immediate",
              "transition": {
               "duration": 0,
               "easing": "linear"
              }
             }
            ],
            "label": "2000",
            "method": "animate"
           },
           {
            "args": [
             [
              "2001"
             ],
             {
              "frame": {
               "duration": 0,
               "redraw": true
              },
              "fromcurrent": true,
              "mode": "immediate",
              "transition": {
               "duration": 0,
               "easing": "linear"
              }
             }
            ],
            "label": "2001",
            "method": "animate"
           },
           {
            "args": [
             [
              "2002"
             ],
             {
              "frame": {
               "duration": 0,
               "redraw": true
              },
              "fromcurrent": true,
              "mode": "immediate",
              "transition": {
               "duration": 0,
               "easing": "linear"
              }
             }
            ],
            "label": "2002",
            "method": "animate"
           },
           {
            "args": [
             [
              "2003"
             ],
             {
              "frame": {
               "duration": 0,
               "redraw": true
              },
              "fromcurrent": true,
              "mode": "immediate",
              "transition": {
               "duration": 0,
               "easing": "linear"
              }
             }
            ],
            "label": "2003",
            "method": "animate"
           },
           {
            "args": [
             [
              "2004"
             ],
             {
              "frame": {
               "duration": 0,
               "redraw": true
              },
              "fromcurrent": true,
              "mode": "immediate",
              "transition": {
               "duration": 0,
               "easing": "linear"
              }
             }
            ],
            "label": "2004",
            "method": "animate"
           },
           {
            "args": [
             [
              "2005"
             ],
             {
              "frame": {
               "duration": 0,
               "redraw": true
              },
              "fromcurrent": true,
              "mode": "immediate",
              "transition": {
               "duration": 0,
               "easing": "linear"
              }
             }
            ],
            "label": "2005",
            "method": "animate"
           },
           {
            "args": [
             [
              "2006"
             ],
             {
              "frame": {
               "duration": 0,
               "redraw": true
              },
              "fromcurrent": true,
              "mode": "immediate",
              "transition": {
               "duration": 0,
               "easing": "linear"
              }
             }
            ],
            "label": "2006",
            "method": "animate"
           },
           {
            "args": [
             [
              "2007"
             ],
             {
              "frame": {
               "duration": 0,
               "redraw": true
              },
              "fromcurrent": true,
              "mode": "immediate",
              "transition": {
               "duration": 0,
               "easing": "linear"
              }
             }
            ],
            "label": "2007",
            "method": "animate"
           },
           {
            "args": [
             [
              "2008"
             ],
             {
              "frame": {
               "duration": 0,
               "redraw": true
              },
              "fromcurrent": true,
              "mode": "immediate",
              "transition": {
               "duration": 0,
               "easing": "linear"
              }
             }
            ],
            "label": "2008",
            "method": "animate"
           },
           {
            "args": [
             [
              "2009"
             ],
             {
              "frame": {
               "duration": 0,
               "redraw": true
              },
              "fromcurrent": true,
              "mode": "immediate",
              "transition": {
               "duration": 0,
               "easing": "linear"
              }
             }
            ],
            "label": "2009",
            "method": "animate"
           },
           {
            "args": [
             [
              "2010"
             ],
             {
              "frame": {
               "duration": 0,
               "redraw": true
              },
              "fromcurrent": true,
              "mode": "immediate",
              "transition": {
               "duration": 0,
               "easing": "linear"
              }
             }
            ],
            "label": "2010",
            "method": "animate"
           },
           {
            "args": [
             [
              "2011"
             ],
             {
              "frame": {
               "duration": 0,
               "redraw": true
              },
              "fromcurrent": true,
              "mode": "immediate",
              "transition": {
               "duration": 0,
               "easing": "linear"
              }
             }
            ],
            "label": "2011",
            "method": "animate"
           },
           {
            "args": [
             [
              "2012"
             ],
             {
              "frame": {
               "duration": 0,
               "redraw": true
              },
              "fromcurrent": true,
              "mode": "immediate",
              "transition": {
               "duration": 0,
               "easing": "linear"
              }
             }
            ],
            "label": "2012",
            "method": "animate"
           },
           {
            "args": [
             [
              "2013"
             ],
             {
              "frame": {
               "duration": 0,
               "redraw": true
              },
              "fromcurrent": true,
              "mode": "immediate",
              "transition": {
               "duration": 0,
               "easing": "linear"
              }
             }
            ],
            "label": "2013",
            "method": "animate"
           },
           {
            "args": [
             [
              "2014"
             ],
             {
              "frame": {
               "duration": 0,
               "redraw": true
              },
              "fromcurrent": true,
              "mode": "immediate",
              "transition": {
               "duration": 0,
               "easing": "linear"
              }
             }
            ],
            "label": "2014",
            "method": "animate"
           },
           {
            "args": [
             [
              "2015"
             ],
             {
              "frame": {
               "duration": 0,
               "redraw": true
              },
              "fromcurrent": true,
              "mode": "immediate",
              "transition": {
               "duration": 0,
               "easing": "linear"
              }
             }
            ],
            "label": "2015",
            "method": "animate"
           },
           {
            "args": [
             [
              "2016"
             ],
             {
              "frame": {
               "duration": 0,
               "redraw": true
              },
              "fromcurrent": true,
              "mode": "immediate",
              "transition": {
               "duration": 0,
               "easing": "linear"
              }
             }
            ],
            "label": "2016",
            "method": "animate"
           }
          ],
          "x": 0.1,
          "xanchor": "left",
          "y": 0,
          "yanchor": "top"
         }
        ],
        "template": {
         "data": {
          "bar": [
           {
            "error_x": {
             "color": "#2a3f5f"
            },
            "error_y": {
             "color": "#2a3f5f"
            },
            "marker": {
             "line": {
              "color": "#E5ECF6",
              "width": 0.5
             },
             "pattern": {
              "fillmode": "overlay",
              "size": 10,
              "solidity": 0.2
             }
            },
            "type": "bar"
           }
          ],
          "barpolar": [
           {
            "marker": {
             "line": {
              "color": "#E5ECF6",
              "width": 0.5
             },
             "pattern": {
              "fillmode": "overlay",
              "size": 10,
              "solidity": 0.2
             }
            },
            "type": "barpolar"
           }
          ],
          "carpet": [
           {
            "aaxis": {
             "endlinecolor": "#2a3f5f",
             "gridcolor": "white",
             "linecolor": "white",
             "minorgridcolor": "white",
             "startlinecolor": "#2a3f5f"
            },
            "baxis": {
             "endlinecolor": "#2a3f5f",
             "gridcolor": "white",
             "linecolor": "white",
             "minorgridcolor": "white",
             "startlinecolor": "#2a3f5f"
            },
            "type": "carpet"
           }
          ],
          "choropleth": [
           {
            "colorbar": {
             "outlinewidth": 0,
             "ticks": ""
            },
            "type": "choropleth"
           }
          ],
          "contour": [
           {
            "colorbar": {
             "outlinewidth": 0,
             "ticks": ""
            },
            "colorscale": [
             [
              0,
              "#0d0887"
             ],
             [
              0.1111111111111111,
              "#46039f"
             ],
             [
              0.2222222222222222,
              "#7201a8"
             ],
             [
              0.3333333333333333,
              "#9c179e"
             ],
             [
              0.4444444444444444,
              "#bd3786"
             ],
             [
              0.5555555555555556,
              "#d8576b"
             ],
             [
              0.6666666666666666,
              "#ed7953"
             ],
             [
              0.7777777777777778,
              "#fb9f3a"
             ],
             [
              0.8888888888888888,
              "#fdca26"
             ],
             [
              1,
              "#f0f921"
             ]
            ],
            "type": "contour"
           }
          ],
          "contourcarpet": [
           {
            "colorbar": {
             "outlinewidth": 0,
             "ticks": ""
            },
            "type": "contourcarpet"
           }
          ],
          "heatmap": [
           {
            "colorbar": {
             "outlinewidth": 0,
             "ticks": ""
            },
            "colorscale": [
             [
              0,
              "#0d0887"
             ],
             [
              0.1111111111111111,
              "#46039f"
             ],
             [
              0.2222222222222222,
              "#7201a8"
             ],
             [
              0.3333333333333333,
              "#9c179e"
             ],
             [
              0.4444444444444444,
              "#bd3786"
             ],
             [
              0.5555555555555556,
              "#d8576b"
             ],
             [
              0.6666666666666666,
              "#ed7953"
             ],
             [
              0.7777777777777778,
              "#fb9f3a"
             ],
             [
              0.8888888888888888,
              "#fdca26"
             ],
             [
              1,
              "#f0f921"
             ]
            ],
            "type": "heatmap"
           }
          ],
          "heatmapgl": [
           {
            "colorbar": {
             "outlinewidth": 0,
             "ticks": ""
            },
            "colorscale": [
             [
              0,
              "#0d0887"
             ],
             [
              0.1111111111111111,
              "#46039f"
             ],
             [
              0.2222222222222222,
              "#7201a8"
             ],
             [
              0.3333333333333333,
              "#9c179e"
             ],
             [
              0.4444444444444444,
              "#bd3786"
             ],
             [
              0.5555555555555556,
              "#d8576b"
             ],
             [
              0.6666666666666666,
              "#ed7953"
             ],
             [
              0.7777777777777778,
              "#fb9f3a"
             ],
             [
              0.8888888888888888,
              "#fdca26"
             ],
             [
              1,
              "#f0f921"
             ]
            ],
            "type": "heatmapgl"
           }
          ],
          "histogram": [
           {
            "marker": {
             "pattern": {
              "fillmode": "overlay",
              "size": 10,
              "solidity": 0.2
             }
            },
            "type": "histogram"
           }
          ],
          "histogram2d": [
           {
            "colorbar": {
             "outlinewidth": 0,
             "ticks": ""
            },
            "colorscale": [
             [
              0,
              "#0d0887"
             ],
             [
              0.1111111111111111,
              "#46039f"
             ],
             [
              0.2222222222222222,
              "#7201a8"
             ],
             [
              0.3333333333333333,
              "#9c179e"
             ],
             [
              0.4444444444444444,
              "#bd3786"
             ],
             [
              0.5555555555555556,
              "#d8576b"
             ],
             [
              0.6666666666666666,
              "#ed7953"
             ],
             [
              0.7777777777777778,
              "#fb9f3a"
             ],
             [
              0.8888888888888888,
              "#fdca26"
             ],
             [
              1,
              "#f0f921"
             ]
            ],
            "type": "histogram2d"
           }
          ],
          "histogram2dcontour": [
           {
            "colorbar": {
             "outlinewidth": 0,
             "ticks": ""
            },
            "colorscale": [
             [
              0,
              "#0d0887"
             ],
             [
              0.1111111111111111,
              "#46039f"
             ],
             [
              0.2222222222222222,
              "#7201a8"
             ],
             [
              0.3333333333333333,
              "#9c179e"
             ],
             [
              0.4444444444444444,
              "#bd3786"
             ],
             [
              0.5555555555555556,
              "#d8576b"
             ],
             [
              0.6666666666666666,
              "#ed7953"
             ],
             [
              0.7777777777777778,
              "#fb9f3a"
             ],
             [
              0.8888888888888888,
              "#fdca26"
             ],
             [
              1,
              "#f0f921"
             ]
            ],
            "type": "histogram2dcontour"
           }
          ],
          "mesh3d": [
           {
            "colorbar": {
             "outlinewidth": 0,
             "ticks": ""
            },
            "type": "mesh3d"
           }
          ],
          "parcoords": [
           {
            "line": {
             "colorbar": {
              "outlinewidth": 0,
              "ticks": ""
             }
            },
            "type": "parcoords"
           }
          ],
          "pie": [
           {
            "automargin": true,
            "type": "pie"
           }
          ],
          "scatter": [
           {
            "marker": {
             "colorbar": {
              "outlinewidth": 0,
              "ticks": ""
             }
            },
            "type": "scatter"
           }
          ],
          "scatter3d": [
           {
            "line": {
             "colorbar": {
              "outlinewidth": 0,
              "ticks": ""
             }
            },
            "marker": {
             "colorbar": {
              "outlinewidth": 0,
              "ticks": ""
             }
            },
            "type": "scatter3d"
           }
          ],
          "scattercarpet": [
           {
            "marker": {
             "colorbar": {
              "outlinewidth": 0,
              "ticks": ""
             }
            },
            "type": "scattercarpet"
           }
          ],
          "scattergeo": [
           {
            "marker": {
             "colorbar": {
              "outlinewidth": 0,
              "ticks": ""
             }
            },
            "type": "scattergeo"
           }
          ],
          "scattergl": [
           {
            "marker": {
             "colorbar": {
              "outlinewidth": 0,
              "ticks": ""
             }
            },
            "type": "scattergl"
           }
          ],
          "scattermapbox": [
           {
            "marker": {
             "colorbar": {
              "outlinewidth": 0,
              "ticks": ""
             }
            },
            "type": "scattermapbox"
           }
          ],
          "scatterpolar": [
           {
            "marker": {
             "colorbar": {
              "outlinewidth": 0,
              "ticks": ""
             }
            },
            "type": "scatterpolar"
           }
          ],
          "scatterpolargl": [
           {
            "marker": {
             "colorbar": {
              "outlinewidth": 0,
              "ticks": ""
             }
            },
            "type": "scatterpolargl"
           }
          ],
          "scatterternary": [
           {
            "marker": {
             "colorbar": {
              "outlinewidth": 0,
              "ticks": ""
             }
            },
            "type": "scatterternary"
           }
          ],
          "surface": [
           {
            "colorbar": {
             "outlinewidth": 0,
             "ticks": ""
            },
            "colorscale": [
             [
              0,
              "#0d0887"
             ],
             [
              0.1111111111111111,
              "#46039f"
             ],
             [
              0.2222222222222222,
              "#7201a8"
             ],
             [
              0.3333333333333333,
              "#9c179e"
             ],
             [
              0.4444444444444444,
              "#bd3786"
             ],
             [
              0.5555555555555556,
              "#d8576b"
             ],
             [
              0.6666666666666666,
              "#ed7953"
             ],
             [
              0.7777777777777778,
              "#fb9f3a"
             ],
             [
              0.8888888888888888,
              "#fdca26"
             ],
             [
              1,
              "#f0f921"
             ]
            ],
            "type": "surface"
           }
          ],
          "table": [
           {
            "cells": {
             "fill": {
              "color": "#EBF0F8"
             },
             "line": {
              "color": "white"
             }
            },
            "header": {
             "fill": {
              "color": "#C8D4E3"
             },
             "line": {
              "color": "white"
             }
            },
            "type": "table"
           }
          ]
         },
         "layout": {
          "annotationdefaults": {
           "arrowcolor": "#2a3f5f",
           "arrowhead": 0,
           "arrowwidth": 1
          },
          "autotypenumbers": "strict",
          "coloraxis": {
           "colorbar": {
            "outlinewidth": 0,
            "ticks": ""
           }
          },
          "colorscale": {
           "diverging": [
            [
             0,
             "#8e0152"
            ],
            [
             0.1,
             "#c51b7d"
            ],
            [
             0.2,
             "#de77ae"
            ],
            [
             0.3,
             "#f1b6da"
            ],
            [
             0.4,
             "#fde0ef"
            ],
            [
             0.5,
             "#f7f7f7"
            ],
            [
             0.6,
             "#e6f5d0"
            ],
            [
             0.7,
             "#b8e186"
            ],
            [
             0.8,
             "#7fbc41"
            ],
            [
             0.9,
             "#4d9221"
            ],
            [
             1,
             "#276419"
            ]
           ],
           "sequential": [
            [
             0,
             "#0d0887"
            ],
            [
             0.1111111111111111,
             "#46039f"
            ],
            [
             0.2222222222222222,
             "#7201a8"
            ],
            [
             0.3333333333333333,
             "#9c179e"
            ],
            [
             0.4444444444444444,
             "#bd3786"
            ],
            [
             0.5555555555555556,
             "#d8576b"
            ],
            [
             0.6666666666666666,
             "#ed7953"
            ],
            [
             0.7777777777777778,
             "#fb9f3a"
            ],
            [
             0.8888888888888888,
             "#fdca26"
            ],
            [
             1,
             "#f0f921"
            ]
           ],
           "sequentialminus": [
            [
             0,
             "#0d0887"
            ],
            [
             0.1111111111111111,
             "#46039f"
            ],
            [
             0.2222222222222222,
             "#7201a8"
            ],
            [
             0.3333333333333333,
             "#9c179e"
            ],
            [
             0.4444444444444444,
             "#bd3786"
            ],
            [
             0.5555555555555556,
             "#d8576b"
            ],
            [
             0.6666666666666666,
             "#ed7953"
            ],
            [
             0.7777777777777778,
             "#fb9f3a"
            ],
            [
             0.8888888888888888,
             "#fdca26"
            ],
            [
             1,
             "#f0f921"
            ]
           ]
          },
          "colorway": [
           "#636efa",
           "#EF553B",
           "#00cc96",
           "#ab63fa",
           "#FFA15A",
           "#19d3f3",
           "#FF6692",
           "#B6E880",
           "#FF97FF",
           "#FECB52"
          ],
          "font": {
           "color": "#2a3f5f"
          },
          "geo": {
           "bgcolor": "white",
           "lakecolor": "white",
           "landcolor": "#E5ECF6",
           "showlakes": true,
           "showland": true,
           "subunitcolor": "white"
          },
          "hoverlabel": {
           "align": "left"
          },
          "hovermode": "closest",
          "mapbox": {
           "style": "light"
          },
          "paper_bgcolor": "white",
          "plot_bgcolor": "#E5ECF6",
          "polar": {
           "angularaxis": {
            "gridcolor": "white",
            "linecolor": "white",
            "ticks": ""
           },
           "bgcolor": "#E5ECF6",
           "radialaxis": {
            "gridcolor": "white",
            "linecolor": "white",
            "ticks": ""
           }
          },
          "scene": {
           "xaxis": {
            "backgroundcolor": "#E5ECF6",
            "gridcolor": "white",
            "gridwidth": 2,
            "linecolor": "white",
            "showbackground": true,
            "ticks": "",
            "zerolinecolor": "white"
           },
           "yaxis": {
            "backgroundcolor": "#E5ECF6",
            "gridcolor": "white",
            "gridwidth": 2,
            "linecolor": "white",
            "showbackground": true,
            "ticks": "",
            "zerolinecolor": "white"
           },
           "zaxis": {
            "backgroundcolor": "#E5ECF6",
            "gridcolor": "white",
            "gridwidth": 2,
            "linecolor": "white",
            "showbackground": true,
            "ticks": "",
            "zerolinecolor": "white"
           }
          },
          "shapedefaults": {
           "line": {
            "color": "#2a3f5f"
           }
          },
          "ternary": {
           "aaxis": {
            "gridcolor": "white",
            "linecolor": "white",
            "ticks": ""
           },
           "baxis": {
            "gridcolor": "white",
            "linecolor": "white",
            "ticks": ""
           },
           "bgcolor": "#E5ECF6",
           "caxis": {
            "gridcolor": "white",
            "linecolor": "white",
            "ticks": ""
           }
          },
          "title": {
           "x": 0.05
          },
          "xaxis": {
           "automargin": true,
           "gridcolor": "white",
           "linecolor": "white",
           "ticks": "",
           "title": {
            "standoff": 15
           },
           "zerolinecolor": "white",
           "zerolinewidth": 2
          },
          "yaxis": {
           "automargin": true,
           "gridcolor": "white",
           "linecolor": "white",
           "ticks": "",
           "title": {
            "standoff": 15
           },
           "zerolinecolor": "white",
           "zerolinewidth": 2
          }
         }
        },
        "title": {
         "text": "Massachusetts Out-Migration Share per Year (log transform)"
        },
        "updatemenus": [
         {
          "buttons": [
           {
            "args": [
             null,
             {
              "frame": {
               "duration": 500,
               "redraw": true
              },
              "fromcurrent": true,
              "mode": "immediate",
              "transition": {
               "duration": 500,
               "easing": "linear"
              }
             }
            ],
            "label": "&#9654;",
            "method": "animate"
           },
           {
            "args": [
             [
              null
             ],
             {
              "frame": {
               "duration": 0,
               "redraw": true
              },
              "fromcurrent": true,
              "mode": "immediate",
              "transition": {
               "duration": 0,
               "easing": "linear"
              }
             }
            ],
            "label": "&#9724;",
            "method": "animate"
           }
          ],
          "direction": "left",
          "pad": {
           "r": 10,
           "t": 70
          },
          "showactive": false,
          "type": "buttons",
          "x": 0.1,
          "xanchor": "right",
          "y": 0,
          "yanchor": "top"
         }
        ]
       }
      },
      "text/html": [
       "<div>                            <div id=\"8bbeca10-dfb3-421d-bee6-ddbdeb198b19\" class=\"plotly-graph-div\" style=\"height:525px; width:100%;\"></div>            <script type=\"text/javascript\">                require([\"plotly\"], function(Plotly) {                    window.PLOTLYENV=window.PLOTLYENV || {};                                    if (document.getElementById(\"8bbeca10-dfb3-421d-bee6-ddbdeb198b19\")) {                    Plotly.newPlot(                        \"8bbeca10-dfb3-421d-bee6-ddbdeb198b19\",                        [{\"coloraxis\":\"coloraxis\",\"geo\":\"geo\",\"hovertemplate\":\"Year=2000<br>StateABRV_dest=%{location}<br>Out-Migration Share=%{z}<extra></extra>\",\"locationmode\":\"USA-states\",\"locations\":[\"AL\",\"NH\",\"NJ\",\"NM\",\"NY\",\"NC\",\"ND\",\"OH\",\"OK\",\"OR\",\"RI\",\"SC\",\"SD\",\"TN\",\"TX\",\"UT\",\"VT\",\"VA\",\"WA\",\"WV\",\"WI\",\"WY\",\"NV\",\"NE\",\"PA\",\"MO\",\"MT\",\"AZ\",\"AR\",\"CA\",\"CO\",\"CT\",\"DE\",\"FL\",\"GA\",\"HI\",\"ID\",\"AK\",\"MS\",\"IN\",\"IA\",\"KS\",\"KY\",\"LA\",\"ME\",\"MD\",\"MI\",\"MN\",\"IL\"],\"name\":\"\",\"z\":[0.0,0.0,10.367395154508944,9.715069925078826,10.197652371622134,13.026655199706566,8.037194877823602,9.467233764113976,9.608928505931507,8.795659111301465,null,0.0,11.446204836299898,11.640360838586675,8.50099209637785,10.231990472533331,0.0,12.83249919741979,9.0000287907457,0.0,10.254066477466784,9.366763294620064,10.682105910443914,7.341618714637167,10.434603862745586,0.0,9.97198035225596,8.83808329369968,10.418688454986379,8.328775563958935,12.446836696188779,0.0,10.172651047718112,null,10.164454336487477,9.842666605718776,11.571367939550244,10.912122274091676,7.703993659542638,9.467233764113976,7.742726547253461,10.912122274091676,10.038091408198774,9.560919296906839,0.0,14.972565297106607,0.0,9.100447533095057,9.193366185959986],\"type\":\"choropleth\"}],                        {\"template\":{\"data\":{\"bar\":[{\"error_x\":{\"color\":\"#2a3f5f\"},\"error_y\":{\"color\":\"#2a3f5f\"},\"marker\":{\"line\":{\"color\":\"#E5ECF6\",\"width\":0.5},\"pattern\":{\"fillmode\":\"overlay\",\"size\":10,\"solidity\":0.2}},\"type\":\"bar\"}],\"barpolar\":[{\"marker\":{\"line\":{\"color\":\"#E5ECF6\",\"width\":0.5},\"pattern\":{\"fillmode\":\"overlay\",\"size\":10,\"solidity\":0.2}},\"type\":\"barpolar\"}],\"carpet\":[{\"aaxis\":{\"endlinecolor\":\"#2a3f5f\",\"gridcolor\":\"white\",\"linecolor\":\"white\",\"minorgridcolor\":\"white\",\"startlinecolor\":\"#2a3f5f\"},\"baxis\":{\"endlinecolor\":\"#2a3f5f\",\"gridcolor\":\"white\",\"linecolor\":\"white\",\"minorgridcolor\":\"white\",\"startlinecolor\":\"#2a3f5f\"},\"type\":\"carpet\"}],\"choropleth\":[{\"colorbar\":{\"outlinewidth\":0,\"ticks\":\"\"},\"type\":\"choropleth\"}],\"contour\":[{\"colorbar\":{\"outlinewidth\":0,\"ticks\":\"\"},\"colorscale\":[[0.0,\"#0d0887\"],[0.1111111111111111,\"#46039f\"],[0.2222222222222222,\"#7201a8\"],[0.3333333333333333,\"#9c179e\"],[0.4444444444444444,\"#bd3786\"],[0.5555555555555556,\"#d8576b\"],[0.6666666666666666,\"#ed7953\"],[0.7777777777777778,\"#fb9f3a\"],[0.8888888888888888,\"#fdca26\"],[1.0,\"#f0f921\"]],\"type\":\"contour\"}],\"contourcarpet\":[{\"colorbar\":{\"outlinewidth\":0,\"ticks\":\"\"},\"type\":\"contourcarpet\"}],\"heatmap\":[{\"colorbar\":{\"outlinewidth\":0,\"ticks\":\"\"},\"colorscale\":[[0.0,\"#0d0887\"],[0.1111111111111111,\"#46039f\"],[0.2222222222222222,\"#7201a8\"],[0.3333333333333333,\"#9c179e\"],[0.4444444444444444,\"#bd3786\"],[0.5555555555555556,\"#d8576b\"],[0.6666666666666666,\"#ed7953\"],[0.7777777777777778,\"#fb9f3a\"],[0.8888888888888888,\"#fdca26\"],[1.0,\"#f0f921\"]],\"type\":\"heatmap\"}],\"heatmapgl\":[{\"colorbar\":{\"outlinewidth\":0,\"ticks\":\"\"},\"colorscale\":[[0.0,\"#0d0887\"],[0.1111111111111111,\"#46039f\"],[0.2222222222222222,\"#7201a8\"],[0.3333333333333333,\"#9c179e\"],[0.4444444444444444,\"#bd3786\"],[0.5555555555555556,\"#d8576b\"],[0.6666666666666666,\"#ed7953\"],[0.7777777777777778,\"#fb9f3a\"],[0.8888888888888888,\"#fdca26\"],[1.0,\"#f0f921\"]],\"type\":\"heatmapgl\"}],\"histogram\":[{\"marker\":{\"pattern\":{\"fillmode\":\"overlay\",\"size\":10,\"solidity\":0.2}},\"type\":\"histogram\"}],\"histogram2d\":[{\"colorbar\":{\"outlinewidth\":0,\"ticks\":\"\"},\"colorscale\":[[0.0,\"#0d0887\"],[0.1111111111111111,\"#46039f\"],[0.2222222222222222,\"#7201a8\"],[0.3333333333333333,\"#9c179e\"],[0.4444444444444444,\"#bd3786\"],[0.5555555555555556,\"#d8576b\"],[0.6666666666666666,\"#ed7953\"],[0.7777777777777778,\"#fb9f3a\"],[0.8888888888888888,\"#fdca26\"],[1.0,\"#f0f921\"]],\"type\":\"histogram2d\"}],\"histogram2dcontour\":[{\"colorbar\":{\"outlinewidth\":0,\"ticks\":\"\"},\"colorscale\":[[0.0,\"#0d0887\"],[0.1111111111111111,\"#46039f\"],[0.2222222222222222,\"#7201a8\"],[0.3333333333333333,\"#9c179e\"],[0.4444444444444444,\"#bd3786\"],[0.5555555555555556,\"#d8576b\"],[0.6666666666666666,\"#ed7953\"],[0.7777777777777778,\"#fb9f3a\"],[0.8888888888888888,\"#fdca26\"],[1.0,\"#f0f921\"]],\"type\":\"histogram2dcontour\"}],\"mesh3d\":[{\"colorbar\":{\"outlinewidth\":0,\"ticks\":\"\"},\"type\":\"mesh3d\"}],\"parcoords\":[{\"line\":{\"colorbar\":{\"outlinewidth\":0,\"ticks\":\"\"}},\"type\":\"parcoords\"}],\"pie\":[{\"automargin\":true,\"type\":\"pie\"}],\"scatter\":[{\"marker\":{\"colorbar\":{\"outlinewidth\":0,\"ticks\":\"\"}},\"type\":\"scatter\"}],\"scatter3d\":[{\"line\":{\"colorbar\":{\"outlinewidth\":0,\"ticks\":\"\"}},\"marker\":{\"colorbar\":{\"outlinewidth\":0,\"ticks\":\"\"}},\"type\":\"scatter3d\"}],\"scattercarpet\":[{\"marker\":{\"colorbar\":{\"outlinewidth\":0,\"ticks\":\"\"}},\"type\":\"scattercarpet\"}],\"scattergeo\":[{\"marker\":{\"colorbar\":{\"outlinewidth\":0,\"ticks\":\"\"}},\"type\":\"scattergeo\"}],\"scattergl\":[{\"marker\":{\"colorbar\":{\"outlinewidth\":0,\"ticks\":\"\"}},\"type\":\"scattergl\"}],\"scattermapbox\":[{\"marker\":{\"colorbar\":{\"outlinewidth\":0,\"ticks\":\"\"}},\"type\":\"scattermapbox\"}],\"scatterpolar\":[{\"marker\":{\"colorbar\":{\"outlinewidth\":0,\"ticks\":\"\"}},\"type\":\"scatterpolar\"}],\"scatterpolargl\":[{\"marker\":{\"colorbar\":{\"outlinewidth\":0,\"ticks\":\"\"}},\"type\":\"scatterpolargl\"}],\"scatterternary\":[{\"marker\":{\"colorbar\":{\"outlinewidth\":0,\"ticks\":\"\"}},\"type\":\"scatterternary\"}],\"surface\":[{\"colorbar\":{\"outlinewidth\":0,\"ticks\":\"\"},\"colorscale\":[[0.0,\"#0d0887\"],[0.1111111111111111,\"#46039f\"],[0.2222222222222222,\"#7201a8\"],[0.3333333333333333,\"#9c179e\"],[0.4444444444444444,\"#bd3786\"],[0.5555555555555556,\"#d8576b\"],[0.6666666666666666,\"#ed7953\"],[0.7777777777777778,\"#fb9f3a\"],[0.8888888888888888,\"#fdca26\"],[1.0,\"#f0f921\"]],\"type\":\"surface\"}],\"table\":[{\"cells\":{\"fill\":{\"color\":\"#EBF0F8\"},\"line\":{\"color\":\"white\"}},\"header\":{\"fill\":{\"color\":\"#C8D4E3\"},\"line\":{\"color\":\"white\"}},\"type\":\"table\"}]},\"layout\":{\"annotationdefaults\":{\"arrowcolor\":\"#2a3f5f\",\"arrowhead\":0,\"arrowwidth\":1},\"autotypenumbers\":\"strict\",\"coloraxis\":{\"colorbar\":{\"outlinewidth\":0,\"ticks\":\"\"}},\"colorscale\":{\"diverging\":[[0,\"#8e0152\"],[0.1,\"#c51b7d\"],[0.2,\"#de77ae\"],[0.3,\"#f1b6da\"],[0.4,\"#fde0ef\"],[0.5,\"#f7f7f7\"],[0.6,\"#e6f5d0\"],[0.7,\"#b8e186\"],[0.8,\"#7fbc41\"],[0.9,\"#4d9221\"],[1,\"#276419\"]],\"sequential\":[[0.0,\"#0d0887\"],[0.1111111111111111,\"#46039f\"],[0.2222222222222222,\"#7201a8\"],[0.3333333333333333,\"#9c179e\"],[0.4444444444444444,\"#bd3786\"],[0.5555555555555556,\"#d8576b\"],[0.6666666666666666,\"#ed7953\"],[0.7777777777777778,\"#fb9f3a\"],[0.8888888888888888,\"#fdca26\"],[1.0,\"#f0f921\"]],\"sequentialminus\":[[0.0,\"#0d0887\"],[0.1111111111111111,\"#46039f\"],[0.2222222222222222,\"#7201a8\"],[0.3333333333333333,\"#9c179e\"],[0.4444444444444444,\"#bd3786\"],[0.5555555555555556,\"#d8576b\"],[0.6666666666666666,\"#ed7953\"],[0.7777777777777778,\"#fb9f3a\"],[0.8888888888888888,\"#fdca26\"],[1.0,\"#f0f921\"]]},\"colorway\":[\"#636efa\",\"#EF553B\",\"#00cc96\",\"#ab63fa\",\"#FFA15A\",\"#19d3f3\",\"#FF6692\",\"#B6E880\",\"#FF97FF\",\"#FECB52\"],\"font\":{\"color\":\"#2a3f5f\"},\"geo\":{\"bgcolor\":\"white\",\"lakecolor\":\"white\",\"landcolor\":\"#E5ECF6\",\"showlakes\":true,\"showland\":true,\"subunitcolor\":\"white\"},\"hoverlabel\":{\"align\":\"left\"},\"hovermode\":\"closest\",\"mapbox\":{\"style\":\"light\"},\"paper_bgcolor\":\"white\",\"plot_bgcolor\":\"#E5ECF6\",\"polar\":{\"angularaxis\":{\"gridcolor\":\"white\",\"linecolor\":\"white\",\"ticks\":\"\"},\"bgcolor\":\"#E5ECF6\",\"radialaxis\":{\"gridcolor\":\"white\",\"linecolor\":\"white\",\"ticks\":\"\"}},\"scene\":{\"xaxis\":{\"backgroundcolor\":\"#E5ECF6\",\"gridcolor\":\"white\",\"gridwidth\":2,\"linecolor\":\"white\",\"showbackground\":true,\"ticks\":\"\",\"zerolinecolor\":\"white\"},\"yaxis\":{\"backgroundcolor\":\"#E5ECF6\",\"gridcolor\":\"white\",\"gridwidth\":2,\"linecolor\":\"white\",\"showbackground\":true,\"ticks\":\"\",\"zerolinecolor\":\"white\"},\"zaxis\":{\"backgroundcolor\":\"#E5ECF6\",\"gridcolor\":\"white\",\"gridwidth\":2,\"linecolor\":\"white\",\"showbackground\":true,\"ticks\":\"\",\"zerolinecolor\":\"white\"}},\"shapedefaults\":{\"line\":{\"color\":\"#2a3f5f\"}},\"ternary\":{\"aaxis\":{\"gridcolor\":\"white\",\"linecolor\":\"white\",\"ticks\":\"\"},\"baxis\":{\"gridcolor\":\"white\",\"linecolor\":\"white\",\"ticks\":\"\"},\"bgcolor\":\"#E5ECF6\",\"caxis\":{\"gridcolor\":\"white\",\"linecolor\":\"white\",\"ticks\":\"\"}},\"title\":{\"x\":0.05},\"xaxis\":{\"automargin\":true,\"gridcolor\":\"white\",\"linecolor\":\"white\",\"ticks\":\"\",\"title\":{\"standoff\":15},\"zerolinecolor\":\"white\",\"zerolinewidth\":2},\"yaxis\":{\"automargin\":true,\"gridcolor\":\"white\",\"linecolor\":\"white\",\"ticks\":\"\",\"title\":{\"standoff\":15},\"zerolinecolor\":\"white\",\"zerolinewidth\":2}}},\"geo\":{\"domain\":{\"x\":[0.0,1.0],\"y\":[0.0,1.0]},\"center\":{},\"scope\":\"usa\"},\"coloraxis\":{\"colorbar\":{\"title\":{\"text\":\"Out-Migration Share\"}},\"colorscale\":[[0.0,\"rgb(254, 254, 253)\"],[0.09090909090909091,\"rgb(224, 224, 223)\"],[0.18181818181818182,\"rgb(197, 197, 195)\"],[0.2727272727272727,\"rgb(171, 171, 170)\"],[0.36363636363636365,\"rgb(146, 146, 145)\"],[0.45454545454545453,\"rgb(124, 123, 122)\"],[0.5454545454545454,\"rgb(102, 101, 101)\"],[0.6363636363636364,\"rgb(81, 80, 80)\"],[0.7272727272727273,\"rgb(59, 59, 59)\"],[0.8181818181818182,\"rgb(38, 38, 38)\"],[0.9090909090909091,\"rgb(16, 16, 16)\"],[1.0,\"rgb(0, 0, 0)\"]],\"cmin\":0.0,\"cmax\":14.972565297106607},\"legend\":{\"tracegroupgap\":0},\"title\":{\"text\":\"Massachusetts Out-Migration Share per Year (log transform)\"},\"updatemenus\":[{\"buttons\":[{\"args\":[null,{\"frame\":{\"duration\":500,\"redraw\":true},\"mode\":\"immediate\",\"fromcurrent\":true,\"transition\":{\"duration\":500,\"easing\":\"linear\"}}],\"label\":\"&#9654;\",\"method\":\"animate\"},{\"args\":[[null],{\"frame\":{\"duration\":0,\"redraw\":true},\"mode\":\"immediate\",\"fromcurrent\":true,\"transition\":{\"duration\":0,\"easing\":\"linear\"}}],\"label\":\"&#9724;\",\"method\":\"animate\"}],\"direction\":\"left\",\"pad\":{\"r\":10,\"t\":70},\"showactive\":false,\"type\":\"buttons\",\"x\":0.1,\"xanchor\":\"right\",\"y\":0,\"yanchor\":\"top\"}],\"sliders\":[{\"active\":0,\"currentvalue\":{\"prefix\":\"Year=\"},\"len\":0.9,\"pad\":{\"b\":10,\"t\":60},\"steps\":[{\"args\":[[\"2000\"],{\"frame\":{\"duration\":0,\"redraw\":true},\"mode\":\"immediate\",\"fromcurrent\":true,\"transition\":{\"duration\":0,\"easing\":\"linear\"}}],\"label\":\"2000\",\"method\":\"animate\"},{\"args\":[[\"2001\"],{\"frame\":{\"duration\":0,\"redraw\":true},\"mode\":\"immediate\",\"fromcurrent\":true,\"transition\":{\"duration\":0,\"easing\":\"linear\"}}],\"label\":\"2001\",\"method\":\"animate\"},{\"args\":[[\"2002\"],{\"frame\":{\"duration\":0,\"redraw\":true},\"mode\":\"immediate\",\"fromcurrent\":true,\"transition\":{\"duration\":0,\"easing\":\"linear\"}}],\"label\":\"2002\",\"method\":\"animate\"},{\"args\":[[\"2003\"],{\"frame\":{\"duration\":0,\"redraw\":true},\"mode\":\"immediate\",\"fromcurrent\":true,\"transition\":{\"duration\":0,\"easing\":\"linear\"}}],\"label\":\"2003\",\"method\":\"animate\"},{\"args\":[[\"2004\"],{\"frame\":{\"duration\":0,\"redraw\":true},\"mode\":\"immediate\",\"fromcurrent\":true,\"transition\":{\"duration\":0,\"easing\":\"linear\"}}],\"label\":\"2004\",\"method\":\"animate\"},{\"args\":[[\"2005\"],{\"frame\":{\"duration\":0,\"redraw\":true},\"mode\":\"immediate\",\"fromcurrent\":true,\"transition\":{\"duration\":0,\"easing\":\"linear\"}}],\"label\":\"2005\",\"method\":\"animate\"},{\"args\":[[\"2006\"],{\"frame\":{\"duration\":0,\"redraw\":true},\"mode\":\"immediate\",\"fromcurrent\":true,\"transition\":{\"duration\":0,\"easing\":\"linear\"}}],\"label\":\"2006\",\"method\":\"animate\"},{\"args\":[[\"2007\"],{\"frame\":{\"duration\":0,\"redraw\":true},\"mode\":\"immediate\",\"fromcurrent\":true,\"transition\":{\"duration\":0,\"easing\":\"linear\"}}],\"label\":\"2007\",\"method\":\"animate\"},{\"args\":[[\"2008\"],{\"frame\":{\"duration\":0,\"redraw\":true},\"mode\":\"immediate\",\"fromcurrent\":true,\"transition\":{\"duration\":0,\"easing\":\"linear\"}}],\"label\":\"2008\",\"method\":\"animate\"},{\"args\":[[\"2009\"],{\"frame\":{\"duration\":0,\"redraw\":true},\"mode\":\"immediate\",\"fromcurrent\":true,\"transition\":{\"duration\":0,\"easing\":\"linear\"}}],\"label\":\"2009\",\"method\":\"animate\"},{\"args\":[[\"2010\"],{\"frame\":{\"duration\":0,\"redraw\":true},\"mode\":\"immediate\",\"fromcurrent\":true,\"transition\":{\"duration\":0,\"easing\":\"linear\"}}],\"label\":\"2010\",\"method\":\"animate\"},{\"args\":[[\"2011\"],{\"frame\":{\"duration\":0,\"redraw\":true},\"mode\":\"immediate\",\"fromcurrent\":true,\"transition\":{\"duration\":0,\"easing\":\"linear\"}}],\"label\":\"2011\",\"method\":\"animate\"},{\"args\":[[\"2012\"],{\"frame\":{\"duration\":0,\"redraw\":true},\"mode\":\"immediate\",\"fromcurrent\":true,\"transition\":{\"duration\":0,\"easing\":\"linear\"}}],\"label\":\"2012\",\"method\":\"animate\"},{\"args\":[[\"2013\"],{\"frame\":{\"duration\":0,\"redraw\":true},\"mode\":\"immediate\",\"fromcurrent\":true,\"transition\":{\"duration\":0,\"easing\":\"linear\"}}],\"label\":\"2013\",\"method\":\"animate\"},{\"args\":[[\"2014\"],{\"frame\":{\"duration\":0,\"redraw\":true},\"mode\":\"immediate\",\"fromcurrent\":true,\"transition\":{\"duration\":0,\"easing\":\"linear\"}}],\"label\":\"2014\",\"method\":\"animate\"},{\"args\":[[\"2015\"],{\"frame\":{\"duration\":0,\"redraw\":true},\"mode\":\"immediate\",\"fromcurrent\":true,\"transition\":{\"duration\":0,\"easing\":\"linear\"}}],\"label\":\"2015\",\"method\":\"animate\"},{\"args\":[[\"2016\"],{\"frame\":{\"duration\":0,\"redraw\":true},\"mode\":\"immediate\",\"fromcurrent\":true,\"transition\":{\"duration\":0,\"easing\":\"linear\"}}],\"label\":\"2016\",\"method\":\"animate\"}],\"x\":0.1,\"xanchor\":\"left\",\"y\":0,\"yanchor\":\"top\"}]},                        {\"responsive\": true}                    ).then(function(){\n",
       "                            Plotly.addFrames('8bbeca10-dfb3-421d-bee6-ddbdeb198b19', [{\"data\":[{\"coloraxis\":\"coloraxis\",\"geo\":\"geo\",\"hovertemplate\":\"Year=2000<br>StateABRV_dest=%{location}<br>Out-Migration Share=%{z}<extra></extra>\",\"locationmode\":\"USA-states\",\"locations\":[\"AL\",\"NH\",\"NJ\",\"NM\",\"NY\",\"NC\",\"ND\",\"OH\",\"OK\",\"OR\",\"RI\",\"SC\",\"SD\",\"TN\",\"TX\",\"UT\",\"VT\",\"VA\",\"WA\",\"WV\",\"WI\",\"WY\",\"NV\",\"NE\",\"PA\",\"MO\",\"MT\",\"AZ\",\"AR\",\"CA\",\"CO\",\"CT\",\"DE\",\"FL\",\"GA\",\"HI\",\"ID\",\"AK\",\"MS\",\"IN\",\"IA\",\"KS\",\"KY\",\"LA\",\"ME\",\"MD\",\"MI\",\"MN\",\"IL\"],\"name\":\"\",\"z\":[0.0,0.0,10.367395154508944,9.715069925078826,10.197652371622134,13.026655199706566,8.037194877823602,9.467233764113976,9.608928505931507,8.795659111301465,null,0.0,11.446204836299898,11.640360838586675,8.50099209637785,10.231990472533331,0.0,12.83249919741979,9.0000287907457,0.0,10.254066477466784,9.366763294620064,10.682105910443914,7.341618714637167,10.434603862745586,0.0,9.97198035225596,8.83808329369968,10.418688454986379,8.328775563958935,12.446836696188779,0.0,10.172651047718112,null,10.164454336487477,9.842666605718776,11.571367939550244,10.912122274091676,7.703993659542638,9.467233764113976,7.742726547253461,10.912122274091676,10.038091408198774,9.560919296906839,0.0,14.972565297106607,0.0,9.100447533095057,9.193366185959986],\"type\":\"choropleth\"}],\"name\":\"2000\"},{\"data\":[{\"coloraxis\":\"coloraxis\",\"geo\":\"geo\",\"hovertemplate\":\"Year=2001<br>StateABRV_dest=%{location}<br>Out-Migration Share=%{z}<extra></extra>\",\"locationmode\":\"USA-states\",\"locations\":[\"OK\",\"OH\",\"ND\",\"NC\",\"NV\",\"NM\",\"NJ\",\"NH\",\"OR\",\"NY\",\"PA\",\"UT\",\"SC\",\"SD\",\"TN\",\"TX\",\"VT\",\"VA\",\"WA\",\"WV\",\"WI\",\"WY\",\"RI\",\"NE\",\"ID\",\"MO\",\"MT\",\"AK\",\"AZ\",\"AR\",\"CA\",\"CO\",\"CT\",\"DE\",\"FL\",\"GA\",\"HI\",\"AL\",\"IL\",\"MN\",\"MI\",\"MD\",\"ME\",\"MS\",\"KY\",\"KS\",\"IA\",\"IN\",\"LA\"],\"name\":\"\",\"z\":[8.826623358508817,6.711870171636036,0.0,6.483446255230547,8.474003436125534,9.631184072971797,8.425070715285122,9.994684956930143,8.775756050156037,7.728366074527919,7.494766056514653,9.046046418887082,10.559450993889701,7.7153124210319595,11.21709146479857,6.259137656038988,11.289412170356094,6.967268203101533,8.111358291519696,9.168648759768619,8.493656365515905,10.781089673527049,null,9.107583258186041,9.159693453122348,6.326305296376547,7.139751143864234,9.573364550649254,7.63648378161162,7.483305334807642,6.391479092381311,9.304968346801038,11.577094194319423,5.413288330428401,null,6.134099494994363,10.216117705835092,6.7570814785623154,7.089019783805373,7.357831619744081,8.284967953135755,8.04584371373867,9.079765089184136,9.40994709739006,6.28538193637397,8.426497263780622,8.620449356197186,6.964286603080469,6.805421409975915],\"type\":\"choropleth\"}],\"name\":\"2001\"},{\"data\":[{\"coloraxis\":\"coloraxis\",\"geo\":\"geo\",\"hovertemplate\":\"Year=2002<br>StateABRV_dest=%{location}<br>Out-Migration Share=%{z}<extra></extra>\",\"locationmode\":\"USA-states\",\"locations\":[\"PA\",\"NH\",\"NJ\",\"NM\",\"NY\",\"NC\",\"ND\",\"OH\",\"OK\",\"OR\",\"RI\",\"UT\",\"SD\",\"TN\",\"TX\",\"NV\",\"VT\",\"VA\",\"WA\",\"WV\",\"WI\",\"WY\",\"SC\",\"NE\",\"ID\",\"MO\",\"AK\",\"AZ\",\"AR\",\"CA\",\"CO\",\"CT\",\"DE\",\"FL\",\"GA\",\"HI\",\"AL\",\"MT\",\"IN\",\"IA\",\"KS\",\"KY\",\"LA\",\"ME\",\"MD\",\"MI\",\"MN\",\"MS\",\"IL\"],\"name\":\"\",\"z\":[7.041296486198206,8.498238876357716,6.273615320974277,6.059421528729516,5.749440054196223,6.2550272325778415,9.362758560350736,6.108648746133034,5.457546311667944,7.507425176898898,null,7.531557322085753,6.853203588637696,7.882557430381483,6.789606136666379,7.022070221898945,10.887001597769034,5.95276756865493,6.381928052940006,8.410463227078852,7.350642227245995,7.77348631449828,9.96076057741832,7.497539539908293,8.046462256222313,6.225766198026004,7.175464142743643,5.841374627201937,6.077191360437159,4.365252007625556,7.707559858875676,10.26732159177359,5.081063808978045,null,5.955589916010919,6.664679235396746,6.599285646842155,6.324304138786829,6.236778365327799,7.476129028188242,6.364941385202813,7.069289327397032,3.9913864267041106,9.802375578476672,6.6979783665153985,6.997224264148026,6.469969921289382,6.335671858287765,5.583199359228812],\"type\":\"choropleth\"}],\"name\":\"2002\"},{\"data\":[{\"coloraxis\":\"coloraxis\",\"geo\":\"geo\",\"hovertemplate\":\"Year=2003<br>StateABRV_dest=%{location}<br>Out-Migration Share=%{z}<extra></extra>\",\"locationmode\":\"USA-states\",\"locations\":[\"OK\",\"OH\",\"ND\",\"NC\",\"NV\",\"NM\",\"NJ\",\"NH\",\"OR\",\"NY\",\"PA\",\"WY\",\"SC\",\"SD\",\"TN\",\"TX\",\"VT\",\"VA\",\"WA\",\"WV\",\"WI\",\"NE\",\"RI\",\"UT\",\"MT\",\"MS\",\"MO\",\"AL\",\"AK\",\"AZ\",\"AR\",\"CA\",\"CT\",\"DE\",\"FL\",\"GA\",\"HI\",\"CO\",\"IL\",\"ID\",\"MI\",\"MD\",\"ME\",\"LA\",\"MN\",\"KS\",\"IA\",\"IN\",\"KY\"],\"name\":\"\",\"z\":[9.286766740245149,8.640940205149775,10.33779004437814,9.11997123722229,6.992959539770435,9.147370187406372,9.67887598683892,0.0,7.31595900223021,8.22524859972743,8.581093253264436,7.873118820232083,11.232676879483169,8.393254489317775,10.60642393245663,8.362774661572542,9.271753907546552,8.188714770137125,7.32750074074635,11.197991340237383,9.014752989917417,9.67391328726981,null,6.873557718265705,8.62174242843985,8.739957671507979,10.45497232389644,9.091918889957208,9.270099677374702,6.753336749138443,10.165939805188188,5.548937032503408,0.0,7.73403256831843,null,9.034145982202014,8.664114145338885,9.28341101463825,8.278992854399121,6.566245607409704,9.035452294511279,9.651880512894998,9.661613001269494,8.56381602609159,8.271657876345692,11.002499250773612,10.956829292903107,8.615710515475211,8.666822943825375],\"type\":\"choropleth\"}],\"name\":\"2003\"},{\"data\":[{\"coloraxis\":\"coloraxis\",\"geo\":\"geo\",\"hovertemplate\":\"Year=2004<br>StateABRV_dest=%{location}<br>Out-Migration Share=%{z}<extra></extra>\",\"locationmode\":\"USA-states\",\"locations\":[\"PA\",\"NH\",\"NJ\",\"NM\",\"NY\",\"NC\",\"ND\",\"OH\",\"OK\",\"OR\",\"RI\",\"NV\",\"SD\",\"TN\",\"TX\",\"UT\",\"VT\",\"VA\",\"WA\",\"WV\",\"WI\",\"WY\",\"SC\",\"NE\",\"ID\",\"MO\",\"AL\",\"AK\",\"AZ\",\"AR\",\"CA\",\"CO\",\"CT\",\"DE\",\"FL\",\"GA\",\"HI\",\"MT\",\"IL\",\"MN\",\"MI\",\"MD\",\"ME\",\"MS\",\"KY\",\"KS\",\"IA\",\"IN\",\"LA\"],\"name\":\"\",\"z\":[9.372939857711538,7.959048180483859,9.087553943204325,11.454217886613268,7.158935342142361,10.453369811679075,0.0,10.024751352420228,10.85344402895091,10.172467360591334,null,0.0,11.454217886613268,0.0,10.630300534074786,9.229594346678631,11.613282619688777,8.342665338186258,10.144296568260438,0.0,10.160296848390965,11.74189993047713,9.89298211940833,0.0,12.783353886304395,10.257625238756175,12.840512247733157,0.0,9.553428174157865,11.48407090953769,9.356560911544035,8.230061976772918,0.0,7.940918082188178,null,9.573406707072708,11.761702596652878,11.196388792904578,12.118377557254284,10.262079546060317,7.754005863754935,8.437386249837715,8.310446036641046,11.499338323213179,11.666392448659112,0.0,0.0,0.0,0.0],\"type\":\"choropleth\"}],\"name\":\"2004\"},{\"data\":[{\"coloraxis\":\"coloraxis\",\"geo\":\"geo\",\"hovertemplate\":\"Year=2005<br>StateABRV_dest=%{location}<br>Out-Migration Share=%{z}<extra></extra>\",\"locationmode\":\"USA-states\",\"locations\":[\"PA\",\"NH\",\"NJ\",\"NM\",\"NC\",\"ND\",\"OH\",\"OK\",\"OR\",\"RI\",\"VT\",\"SD\",\"TN\",\"TX\",\"UT\",\"NV\",\"VA\",\"WA\",\"WV\",\"WI\",\"WY\",\"SC\",\"NE\",\"NY\",\"AL\",\"MO\",\"AK\",\"AZ\",\"AR\",\"CA\",\"CO\",\"CT\",\"DE\",\"FL\",\"GA\",\"HI\",\"ID\",\"MT\",\"IN\",\"IL\",\"MN\",\"MI\",\"MD\",\"ME\",\"MS\",\"LA\",\"KY\",\"KS\",\"IA\"],\"name\":\"\",\"z\":[6.130307058021386,8.57147059777627,6.672703150885882,8.856682493903843,5.460835693863773,10.073900561307338,6.895692334188977,7.994459019627502,8.377945168031006,null,8.695974440432646,6.475067370307913,10.409632272839142,6.702526179711785,5.8393110683676825,9.465746567140783,9.084772450576796,7.214454738871681,7.13160807632391,9.225016581604768,12.034736324251789,8.25414163843765,8.374554216803604,5.710660350213026,7.546987357169476,8.009384633516639,7.3496853375769495,7.574896177545556,8.705355371364403,5.830869907653101,7.218282122977775,8.77159182055035,5.849719638314794,null,6.748065496385483,7.517534926711492,8.97405442608331,7.69538374406481,7.489483742209656,6.200926415591002,7.001207217857917,7.1969934735202985,5.655372331429334,8.112242044499148,8.355774274616364,6.94179370095947,7.473683059028687,8.341917297040514,9.748066709511185],\"type\":\"choropleth\"}],\"name\":\"2005\"},{\"data\":[{\"coloraxis\":\"coloraxis\",\"geo\":\"geo\",\"hovertemplate\":\"Year=2006<br>StateABRV_dest=%{location}<br>Out-Migration Share=%{z}<extra></extra>\",\"locationmode\":\"USA-states\",\"locations\":[\"OR\",\"NH\",\"NJ\",\"NM\",\"NY\",\"NC\",\"ND\",\"OH\",\"OK\",\"NV\",\"PA\",\"TX\",\"SC\",\"SD\",\"TN\",\"UT\",\"VT\",\"VA\",\"WA\",\"WV\",\"WI\",\"WY\",\"RI\",\"NE\",\"MT\",\"MS\",\"AL\",\"AK\",\"AZ\",\"AR\",\"CA\",\"CO\",\"CT\",\"DE\",\"FL\",\"GA\",\"HI\",\"MO\",\"IL\",\"IN\",\"IA\",\"KS\",\"KY\",\"LA\",\"ME\",\"MD\",\"MI\",\"MN\",\"ID\"],\"name\":\"\",\"z\":[5.401613039794563,10.07867153119988,8.298753924117271,8.885537971202124,6.967058121850709,7.525515811781338,8.489512232704419,7.410823997105629,8.006692691889986,7.09115131995699,8.313278959650637,8.877677145519069,9.609597721468273,8.363501474439817,8.749754317817322,6.0324296952226195,7.170491529545962,10.071264108475708,6.960294056675493,0.0,8.522681443214285,9.429215988423271,null,9.317275254018941,7.677065711871481,7.217214476363145,9.368934149743954,7.339872216298448,6.475216394102259,8.82325678836881,4.79469448900896,8.33449477566727,10.954884054987074,6.758488021628252,null,7.604353555265067,7.217427073556758,9.099702782585439,6.70830393588587,7.978534826224405,9.108117958592858,7.901472672303185,9.3034819662717,7.741379810703668,9.550890160601899,8.097798237993636,8.005289251853101,7.385602945498002,6.340559488733444],\"type\":\"choropleth\"}],\"name\":\"2006\"},{\"data\":[{\"coloraxis\":\"coloraxis\",\"geo\":\"geo\",\"hovertemplate\":\"Year=2007<br>StateABRV_dest=%{location}<br>Out-Migration Share=%{z}<extra></extra>\",\"locationmode\":\"USA-states\",\"locations\":[\"OK\",\"OH\",\"ND\",\"NC\",\"NV\",\"NM\",\"NJ\",\"NH\",\"OR\",\"NY\",\"PA\",\"TX\",\"SC\",\"SD\",\"TN\",\"UT\",\"VT\",\"VA\",\"WA\",\"WV\",\"WI\",\"NE\",\"RI\",\"WY\",\"MT\",\"MS\",\"MO\",\"AL\",\"AK\",\"AZ\",\"AR\",\"CA\",\"CT\",\"DE\",\"FL\",\"GA\",\"HI\",\"CO\",\"IL\",\"ID\",\"MI\",\"MD\",\"ME\",\"LA\",\"MN\",\"KS\",\"IA\",\"IN\",\"KY\"],\"name\":\"\",\"z\":[9.415235831739121,6.473613194213062,0.0,7.610519947100567,10.243005565542877,0.0,8.751132325616856,10.646289567234207,9.066031480236832,8.428223421585646,7.499492665529175,8.775996833128765,0.0,9.002166110714697,0.0,8.60007373259701,11.633676206706685,12.309431715328733,6.845307749618945,9.091936147357506,11.915527382713314,0.0,null,0.0,0.0,10.801530192859012,9.166469199989537,8.775996833128765,8.971088439345335,12.904138835682039,12.275530103141305,8.747210744946983,9.862597014092247,7.53117788966388,null,8.542633837312035,11.784907222505907,9.899075217721217,9.198217848884642,12.275530103141305,10.666092229703663,7.131530171375771,0.0,9.615270610871358,9.198217848884642,11.915527382713314,0.0,11.091760041945962,8.189553857768495],\"type\":\"choropleth\"}],\"name\":\"2007\"},{\"data\":[{\"coloraxis\":\"coloraxis\",\"geo\":\"geo\",\"hovertemplate\":\"Year=2008<br>StateABRV_dest=%{location}<br>Out-Migration Share=%{z}<extra></extra>\",\"locationmode\":\"USA-states\",\"locations\":[\"PA\",\"NH\",\"NJ\",\"NM\",\"NY\",\"NC\",\"ND\",\"OH\",\"OK\",\"OR\",\"RI\",\"NV\",\"SD\",\"TN\",\"TX\",\"UT\",\"VT\",\"VA\",\"WA\",\"WV\",\"WI\",\"WY\",\"SC\",\"NE\",\"MT\",\"MO\",\"AK\",\"AZ\",\"AR\",\"CA\",\"CO\",\"CT\",\"DE\",\"FL\",\"GA\",\"HI\",\"ID\",\"AL\",\"IN\",\"IA\",\"KS\",\"KY\",\"LA\",\"ME\",\"MD\",\"MI\",\"MN\",\"MS\",\"IL\"],\"name\":\"\",\"z\":[8.751055193749226,10.878505922967545,8.764821368943,10.529235402193978,7.8963905231056755,8.018180384031195,9.08129688461674,8.09016090017402,9.85652685861326,8.889060903458043,null,9.241580473524188,9.08674645373949,9.79088281342571,8.682192533626393,7.457291628617508,9.06245376168485,11.555392593545303,8.429056639760395,8.4425944353301,0.0,13.284631701478613,9.642272315212372,10.03003778134053,8.081624571430362,10.016100282925763,9.676173816651346,7.928474329906366,7.948405688094719,7.301153531643613,9.302404487690588,0.0,6.9111568451945775,null,8.215727505145237,12.50447313835755,11.523643915989007,8.191997560793322,8.075642468311813,7.753400526309664,9.448116294179266,9.200949891893199,8.51163849052274,9.965499322134445,9.96221522967366,8.853814883533056,7.121125537049399,5.833548466004428,5.737321868326712],\"type\":\"choropleth\"}],\"name\":\"2008\"},{\"data\":[{\"coloraxis\":\"coloraxis\",\"geo\":\"geo\",\"hovertemplate\":\"Year=2009<br>StateABRV_dest=%{location}<br>Out-Migration Share=%{z}<extra></extra>\",\"locationmode\":\"USA-states\",\"locations\":[\"OR\",\"OK\",\"OH\",\"ND\",\"NH\",\"NY\",\"NM\",\"NJ\",\"PA\",\"NC\",\"RI\",\"UT\",\"SD\",\"TN\",\"TX\",\"VT\",\"VA\",\"WA\",\"WV\",\"WI\",\"WY\",\"NV\",\"SC\",\"NE\",\"MT\",\"MO\",\"AK\",\"AZ\",\"AR\",\"CA\",\"CO\",\"CT\",\"DE\",\"FL\",\"GA\",\"HI\",\"ID\",\"AL\",\"IN\",\"IA\",\"KS\",\"KY\",\"LA\",\"ME\",\"MD\",\"MI\",\"MN\",\"MS\",\"IL\"],\"name\":\"\",\"z\":[9.181249615696126,10.058807010489428,9.420922471906273,11.738775012850372,0.0,0.0,9.102468757117586,11.179159241199935,10.099031820679013,0.0,null,7.679659150232785,8.675204443555034,9.219219259059555,10.180630448801404,8.43160661969109,0.0,10.845831642280416,8.896552646392262,0.0,8.849472274929157,8.992984546532874,0.0,9.321831592986538,9.8378162634499,10.530963444009846,10.548355202261249,8.870002390154001,9.70356676567323,8.599941891095913,12.193511194146055,0.0,9.153327153335274,null,12.98196854552891,0.0,10.296391245185838,10.748376338135468,9.834946863777073,11.441523518695414,10.894228226345641,0.0,9.621593147409722,11.777995721443858,9.752482569962195,0.0,8.777275980696693,9.972991066023965,9.706082452754595],\"type\":\"choropleth\"}],\"name\":\"2009\"},{\"data\":[{\"coloraxis\":\"coloraxis\",\"geo\":\"geo\",\"hovertemplate\":\"Year=2010<br>StateABRV_dest=%{location}<br>Out-Migration Share=%{z}<extra></extra>\",\"locationmode\":\"USA-states\",\"locations\":[\"OR\",\"OK\",\"OH\",\"ND\",\"NH\",\"NY\",\"NM\",\"NJ\",\"PA\",\"NC\",\"RI\",\"UT\",\"SD\",\"TN\",\"TX\",\"VT\",\"VA\",\"WA\",\"WV\",\"WI\",\"WY\",\"NV\",\"SC\",\"NE\",\"MT\",\"MO\",\"AK\",\"AZ\",\"AR\",\"CA\",\"CO\",\"CT\",\"DE\",\"FL\",\"GA\",\"HI\",\"ID\",\"AL\",\"IN\",\"IA\",\"KS\",\"KY\",\"LA\",\"ME\",\"MD\",\"MI\",\"MN\",\"MS\",\"IL\"],\"name\":\"\",\"z\":[8.101069783550304,10.680182257076693,8.938206810381118,7.73923492043812,7.7174385369890155,7.207023656813041,7.19863658081293,9.109912100421539,null,0.0,10.762988162468112,10.482526381421001,0.0,6.506100701605143,6.59237115764481,11.5230748501597,7.3103776510300245,8.766967357785987,9.808584173684315,9.317339628315578,10.013882327091029,10.21682325030841,8.175602834841536,9.267742692400502,9.295544902149151,11.254810852755933,8.784719357613959,8.332281985893303,7.254346156196976,9.455238889992577,0.0,5.869992053110401,null,5.522269468733414,8.801779388457957,12.08654424217548,7.937421483644332,8.564166145434625,10.204400692216712,9.836675927215223,7.892395062725034,7.320450983381582,11.538579084069875,8.003524831589969,9.439794520556035,7.1788699005506365,9.144954268015365,6.4519476761405805,7.5043384318792645],\"type\":\"choropleth\"}],\"name\":\"2010\"},{\"data\":[{\"coloraxis\":\"coloraxis\",\"geo\":\"geo\",\"hovertemplate\":\"Year=2011<br>StateABRV_dest=%{location}<br>Out-Migration Share=%{z}<extra></extra>\",\"locationmode\":\"USA-states\",\"locations\":[\"OR\",\"OK\",\"OH\",\"ND\",\"NH\",\"NY\",\"NM\",\"NJ\",\"PA\",\"NC\",\"RI\",\"UT\",\"SD\",\"TN\",\"TX\",\"VT\",\"VA\",\"WA\",\"WV\",\"WI\",\"WY\",\"NV\",\"SC\",\"NE\",\"MT\",\"MO\",\"AK\",\"AZ\",\"AR\",\"CA\",\"CO\",\"CT\",\"DE\",\"FL\",\"GA\",\"HI\",\"ID\",\"AL\",\"IN\",\"IA\",\"KS\",\"KY\",\"LA\",\"ME\",\"MD\",\"MI\",\"MN\",\"MS\",\"IL\"],\"name\":\"\",\"z\":[9.394717879711333,8.242995746622006,9.939445031017508,9.990903321821005,10.9772482513472,9.748798777819948,9.3607557218126,9.977788342238625,null,10.4523626866037,0.0,9.785742240398232,11.485128374277007,8.402139694827701,7.555612238807414,0.0,8.769265681624237,7.582561716697475,0.0,9.331316312820361,0.0,0.0,8.947703685268474,10.357528639719122,10.484280317489453,8.905580250133942,7.955313646514966,9.748798777819948,7.414343499860173,10.604769681833456,0.0,8.841878179725652,null,8.302794536329213,8.684445405606679,10.580672133747438,9.378486670226973,8.656249709157017,0.0,9.3856680071456,10.11738749658846,9.920810935227568,9.881590236311016,8.860886159869406,9.821313758970126,8.73766896184851,10.557141639667819,11.109516254336427,10.426521474379427],\"type\":\"choropleth\"}],\"name\":\"2011\"},{\"data\":[{\"coloraxis\":\"coloraxis\",\"geo\":\"geo\",\"hovertemplate\":\"Year=2012<br>StateABRV_dest=%{location}<br>Out-Migration Share=%{z}<extra></extra>\",\"locationmode\":\"USA-states\",\"locations\":[\"OK\",\"OH\",\"ND\",\"NC\",\"NV\",\"NM\",\"NJ\",\"NH\",\"OR\",\"NY\",\"RI\",\"UT\",\"SD\",\"TN\",\"TX\",\"VT\",\"VA\",\"WA\",\"WV\",\"WI\",\"WY\",\"NE\",\"SC\",\"MT\",\"PA\",\"MS\",\"AK\",\"AZ\",\"AR\",\"CA\",\"CO\",\"CT\",\"DE\",\"FL\",\"GA\",\"HI\",\"ID\",\"AL\",\"IL\",\"IN\",\"IA\",\"KS\",\"KY\",\"LA\",\"ME\",\"MD\",\"MI\",\"MN\",\"MO\"],\"name\":\"\",\"z\":[6.837073645833402,7.764049119828207,6.936068394720869,8.819439545468276,9.44109273301077,7.0390815067870465,6.469079960626929,7.365913557891362,7.518957416999179,7.4685356467715165,10.58811715655427,6.768052839847692,9.08934479972812,7.854600371899653,6.173156713048319,10.287131157884351,7.478312479305209,6.5857747651782,9.080079359702491,7.405855895194879,8.606294983513765,6.463097141333089,8.405549711066103,8.47646198075335,null,9.634438921730228,8.114183238981816,8.44525376103086,4.61947054423953,8.778658162540657,9.79587907879481,7.0650884875927344,null,7.378810760504537,7.717111645755385,8.157222607362668,6.366598157207562,8.286723238955972,7.075683691581371,7.8604199888340816,7.593278174823085,9.08668877790026,8.640507744799743,8.752682659175422,7.994284925970887,7.131349921137576,6.318419696764453,6.731279741588527,6.955241312135805],\"type\":\"choropleth\"}],\"name\":\"2012\"},{\"data\":[{\"coloraxis\":\"coloraxis\",\"geo\":\"geo\",\"hovertemplate\":\"Year=2013<br>StateABRV_dest=%{location}<br>Out-Migration Share=%{z}<extra></extra>\",\"locationmode\":\"USA-states\",\"locations\":[\"OR\",\"OK\",\"OH\",\"ND\",\"NH\",\"NY\",\"NM\",\"NJ\",\"PA\",\"NC\",\"RI\",\"UT\",\"SD\",\"TN\",\"TX\",\"VT\",\"VA\",\"WA\",\"WV\",\"WI\",\"WY\",\"NV\",\"SC\",\"NE\",\"MT\",\"MO\",\"AK\",\"AZ\",\"AR\",\"CA\",\"CO\",\"CT\",\"DE\",\"FL\",\"GA\",\"HI\",\"ID\",\"AL\",\"IN\",\"IA\",\"KS\",\"KY\",\"LA\",\"ME\",\"MD\",\"MI\",\"MN\",\"MS\",\"IL\"],\"name\":\"\",\"z\":[9.893603305458612,10.198142467888292,7.021589785451953,8.833071821453132,9.91446842330759,8.756413480473555,8.624539087523933,8.640419020110913,null,11.642065985723246,0.0,8.516942227634717,10.992215630148696,7.181040244486957,5.896296113130445,0.0,9.71325026849787,8.165792573064708,10.316926097169329,8.342469691489596,9.50900338876237,8.534216423456444,8.790086663928273,8.055256789226148,9.400635321289952,6.871956080134023,9.703446311830168,8.88441882901576,6.846275466639666,9.489122008940768,0.0,7.739237661012691,null,8.789108696959035,10.715657147992498,10.510117255863973,7.964693137513431,8.086717939017669,10.202150569322315,8.077079305868834,8.964999282619068,7.095710622176654,0.0,8.968501925954513,9.774182795557039,8.240303759882659,8.522168064997784,7.730721152589374,8.64972926526679],\"type\":\"choropleth\"}],\"name\":\"2013\"},{\"data\":[{\"coloraxis\":\"coloraxis\",\"geo\":\"geo\",\"hovertemplate\":\"Year=2014<br>StateABRV_dest=%{location}<br>Out-Migration Share=%{z}<extra></extra>\",\"locationmode\":\"USA-states\",\"locations\":[\"OK\",\"OH\",\"ND\",\"NC\",\"NV\",\"NM\",\"NJ\",\"NH\",\"OR\",\"NY\",\"WY\",\"TX\",\"SC\",\"SD\",\"TN\",\"UT\",\"VT\",\"VA\",\"WA\",\"WV\",\"WI\",\"NE\",\"RI\",\"MT\",\"PA\",\"MS\",\"AL\",\"AK\",\"AZ\",\"AR\",\"CA\",\"CO\",\"DE\",\"FL\",\"GA\",\"HI\",\"CT\",\"IL\",\"ID\",\"MI\",\"MD\",\"ME\",\"LA\",\"MN\",\"KS\",\"IA\",\"IN\",\"KY\",\"MO\"],\"name\":\"\",\"z\":[5.983246539436418,7.3278323030193375,6.502575498032241,10.237979703366367,8.645208801385833,5.590137932025667,7.107889887564826,6.524709985205847,6.360000736474648,6.306559225574821,8.491298229861545,5.224840593606979,7.632844246997299,9.216659041799733,6.722371987012182,6.303322223196153,10.205456453916844,6.113381138805804,5.622572792597948,10.147187551363174,7.1051840409948985,5.427005491304122,8.341686449445088,7.825910345300043,null,7.328057363824363,7.892129281019518,7.112960531726635,5.303773311413366,7.408663107769591,6.8833023354026865,9.946173893649359,null,6.216546497285108,6.087916345322149,7.199377916592451,5.467435185716584,6.851770131319091,5.632024694584243,6.108049978132609,6.332756588322565,6.67651103681852,8.501435911459035,6.547861351698426,7.465649235717429,7.792045837297928,7.733297388978341,6.998491301999738,7.869823559584677],\"type\":\"choropleth\"}],\"name\":\"2014\"},{\"data\":[{\"coloraxis\":\"coloraxis\",\"geo\":\"geo\",\"hovertemplate\":\"Year=2015<br>StateABRV_dest=%{location}<br>Out-Migration Share=%{z}<extra></extra>\",\"locationmode\":\"USA-states\",\"locations\":[\"OR\",\"NV\",\"NH\",\"NJ\",\"NM\",\"NY\",\"NC\",\"ND\",\"OH\",\"OK\",\"WY\",\"SC\",\"SD\",\"TN\",\"TX\",\"UT\",\"VT\",\"VA\",\"WA\",\"WV\",\"WI\",\"NE\",\"RI\",\"MT\",\"PA\",\"MS\",\"MO\",\"AL\",\"AK\",\"AZ\",\"AR\",\"CA\",\"CO\",\"DE\",\"FL\",\"GA\",\"HI\",\"CT\",\"IL\",\"IN\",\"IA\",\"MN\",\"KS\",\"KY\",\"LA\",\"ME\",\"MD\",\"MI\",\"ID\"],\"name\":\"\",\"z\":[7.971116984964521,8.108430871923872,7.237864158030836,0.0,5.676577808034121,7.992224762758514,11.557196750928036,9.248476640875634,11.468904098257614,11.637239434834978,0.0,9.815381913629851,13.166634639595543,9.331326577409863,7.986148418200676,9.398304355197775,9.20949121706138,8.727609867349969,9.096950608745422,11.902942600567984,10.398865196328769,9.276385424001054,8.16786436632146,9.730169134391263,null,0.0,0.0,10.408573995311423,10.234415797088937,9.179076085781242,10.342512288402615,7.347693684021285,10.734371681540841,null,9.251539387743046,10.271998502634137,10.151854176900398,6.774846374324174,8.871969120960156,9.501102537314592,0.0,9.985380811452481,9.727696918507364,10.267752165847934,8.828841227294063,8.063490267030293,6.659931172006861,9.149558862443557,8.183554975817795],\"type\":\"choropleth\"}],\"name\":\"2015\"},{\"data\":[{\"coloraxis\":\"coloraxis\",\"geo\":\"geo\",\"hovertemplate\":\"Year=2016<br>StateABRV_dest=%{location}<br>Out-Migration Share=%{z}<extra></extra>\",\"locationmode\":\"USA-states\",\"locations\":[\"OH\",\"ND\",\"NC\",\"NV\",\"NM\",\"NJ\",\"NH\",\"OK\",\"NY\",\"OR\",\"WV\",\"RI\",\"SC\",\"SD\",\"TN\",\"TX\",\"UT\",\"VT\",\"VA\",\"WA\",\"NE\",\"PA\",\"MT\",\"IL\",\"MS\",\"WI\",\"AL\",\"AK\",\"AZ\",\"AR\",\"CA\",\"CO\",\"CT\",\"DE\",\"FL\",\"MO\",\"GA\",\"ID\",\"IN\",\"IA\",\"KS\",\"KY\",\"LA\",\"ME\",\"MD\",\"MI\",\"MN\",\"HI\",\"WY\"],\"name\":\"\",\"z\":[10.388791405625204,10.101109303620873,0.0,11.305082152275633,7.480590091871095,10.61790508428657,6.962359552912578,0.0,8.790847839135337,6.47429526461165,11.130728729667796,10.16755443889815,9.562112832440736,0.0,11.140779098745528,8.307565773126731,0.0,12.96331020117365,8.71213999855155,12.691376513395523,9.065132624935634,null,0.0,9.51729881994764,9.729545768588512,0.0,10.515543088900255,11.641554374120572,9.9551554052268,0.0,10.369922859453803,9.446183394602425,8.555067733519708,null,10.018871191385326,0.0,0.0,11.063070040013748,11.641554374120572,10.26783878473322,12.152379963408588,10.072938421728752,0.0,7.099856565680727,8.585982122293787,8.930176385674761,10.9737249803277,0.0,11.823875910227741],\"type\":\"choropleth\"}],\"name\":\"2016\"}]);\n",
       "                        }).then(function(){\n",
       "                            \n",
       "var gd = document.getElementById('8bbeca10-dfb3-421d-bee6-ddbdeb198b19');\n",
       "var x = new MutationObserver(function (mutations, observer) {{\n",
       "        var display = window.getComputedStyle(gd).display;\n",
       "        if (!display || display === 'none') {{\n",
       "            console.log([gd, 'removed!']);\n",
       "            Plotly.purge(gd);\n",
       "            observer.disconnect();\n",
       "        }}\n",
       "}});\n",
       "\n",
       "// Listen for the removal of the full notebook cells\n",
       "var notebookContainer = gd.closest('#notebook-container');\n",
       "if (notebookContainer) {{\n",
       "    x.observe(notebookContainer, {childList: true});\n",
       "}}\n",
       "\n",
       "// Listen for the clearing of the current output cell\n",
       "var outputEl = gd.closest('.output');\n",
       "if (outputEl) {{\n",
       "    x.observe(outputEl, {childList: true});\n",
       "}}\n",
       "\n",
       "                        })                };                });            </script>        </div>"
      ]
     },
     "metadata": {},
     "output_type": "display_data"
    }
   ],
   "source": [
    "make_choropleth(\"MA\")"
   ]
  },
  {
   "cell_type": "code",
   "execution_count": null,
   "id": "eceac36a",
   "metadata": {},
   "outputs": [],
   "source": []
  },
  {
   "cell_type": "code",
   "execution_count": null,
   "id": "1efd0652",
   "metadata": {},
   "outputs": [],
   "source": []
  }
 ],
 "metadata": {
  "kernelspec": {
   "display_name": "Python 3 (ipykernel)",
   "language": "python",
   "name": "python3"
  },
  "language_info": {
   "codemirror_mode": {
    "name": "ipython",
    "version": 3
   },
   "file_extension": ".py",
   "mimetype": "text/x-python",
   "name": "python",
   "nbconvert_exporter": "python",
   "pygments_lexer": "ipython3",
   "version": "3.9.12"
  }
 },
 "nbformat": 4,
 "nbformat_minor": 5
}
